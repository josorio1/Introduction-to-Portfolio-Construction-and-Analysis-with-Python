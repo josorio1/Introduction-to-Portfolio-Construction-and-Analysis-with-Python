{
 "cells": [
  {
   "cell_type": "markdown",
   "metadata": {},
   "source": [
    "## Random Walk Generation\n",
    "\n",
    "In order to generate random stock returns, we will us the following function:\n",
    "\n",
    "\n",
    "$$ \\frac{S_{t+dt} - S_{t}}{S_{t}} = \\mu dt + \\sigma\\sqrt{dt}\\chi_{t} $$\n",
    "\n",
    "which is the same we had in the notebook 3, but in this case we have $\\mu = r + \\sigma\\lambda$.\n",
    "\n",
    "Let's create a function for Geometric Brownian Motion:\n"
   ]
  },
  {
   "cell_type": "code",
   "execution_count": 15,
   "metadata": {},
   "outputs": [],
   "source": [
    "%load_ext autoreload\n",
    "%autoreload 2\n",
    "\n",
    "import edhec_risk_kit as erk\n",
    "import pandas as pd\n",
    "import numpy as np\n",
    "import matplotlib.pyplot as plt\n"
   ]
  },
  {
   "cell_type": "code",
   "execution_count": 33,
   "metadata": {},
   "outputs": [],
   "source": [
    "def gbm(n_years=10, n_scenarios=1000, mu=0.07, sigma=0.15, steps_per_year=12, s_0=100.0):\n",
    "    \n",
    "    \"\"\"\n",
    "    Evolution of a Stock Price using a Geometric Brownian Motion Model.\n",
    "    n_years: duration of evolution\n",
    "    n_scenarios: number of stocks\n",
    "    mu: expected annualized return\n",
    "    sigma: annualized volatility\n",
    "    steps_per_year: number of \"dts\" in a year, that is, number of returns per year\n",
    "    s_0: initial stock price\n",
    "    \"\"\"\n",
    "    \n",
    "    dt = 1/steps_per_year\n",
    "    n_steps = int(n_years*steps_per_year)\n",
    "    #We generate random numbers with mean (1 + mu*dt) and standard deviation sigma*sqrt(dt).\n",
    "    # If we do this, our function will be much faster than if we generate random numbers following\n",
    "    #standard gaussian distribution. The 1 is added already too because we are going to calculate the cummulative product\n",
    "    rets_plus_1 = pd.DataFrame(np.random.normal(loc=1+mu*dt, scale=sigma*np.sqrt(dt),size = (n_steps,n_scenarios)))\n",
    "    stock_price = s_0*rets_plus_1.cumprod()\n",
    "    return stock_price\n",
    "    \n",
    "    "
   ]
  },
  {
   "cell_type": "code",
   "execution_count": 48,
   "metadata": {},
   "outputs": [
    {
     "data": {
      "text/html": [
       "<div>\n",
       "<style scoped>\n",
       "    .dataframe tbody tr th:only-of-type {\n",
       "        vertical-align: middle;\n",
       "    }\n",
       "\n",
       "    .dataframe tbody tr th {\n",
       "        vertical-align: top;\n",
       "    }\n",
       "\n",
       "    .dataframe thead th {\n",
       "        text-align: right;\n",
       "    }\n",
       "</style>\n",
       "<table border=\"1\" class=\"dataframe\">\n",
       "  <thead>\n",
       "    <tr style=\"text-align: right;\">\n",
       "      <th></th>\n",
       "      <th>0</th>\n",
       "      <th>1</th>\n",
       "      <th>2</th>\n",
       "    </tr>\n",
       "  </thead>\n",
       "  <tbody>\n",
       "    <tr>\n",
       "      <th>0</th>\n",
       "      <td>100.000000</td>\n",
       "      <td>100.000000</td>\n",
       "      <td>100.000000</td>\n",
       "    </tr>\n",
       "    <tr>\n",
       "      <th>1</th>\n",
       "      <td>107.511476</td>\n",
       "      <td>97.328549</td>\n",
       "      <td>94.342458</td>\n",
       "    </tr>\n",
       "    <tr>\n",
       "      <th>2</th>\n",
       "      <td>98.481147</td>\n",
       "      <td>102.235488</td>\n",
       "      <td>90.520664</td>\n",
       "    </tr>\n",
       "    <tr>\n",
       "      <th>3</th>\n",
       "      <td>101.245460</td>\n",
       "      <td>105.527855</td>\n",
       "      <td>88.755188</td>\n",
       "    </tr>\n",
       "    <tr>\n",
       "      <th>4</th>\n",
       "      <td>98.450737</td>\n",
       "      <td>104.885118</td>\n",
       "      <td>97.325547</td>\n",
       "    </tr>\n",
       "    <tr>\n",
       "      <th>...</th>\n",
       "      <td>...</td>\n",
       "      <td>...</td>\n",
       "      <td>...</td>\n",
       "    </tr>\n",
       "    <tr>\n",
       "      <th>115</th>\n",
       "      <td>176.293527</td>\n",
       "      <td>129.036142</td>\n",
       "      <td>148.405679</td>\n",
       "    </tr>\n",
       "    <tr>\n",
       "      <th>116</th>\n",
       "      <td>178.878740</td>\n",
       "      <td>136.063954</td>\n",
       "      <td>143.511302</td>\n",
       "    </tr>\n",
       "    <tr>\n",
       "      <th>117</th>\n",
       "      <td>177.656223</td>\n",
       "      <td>122.475609</td>\n",
       "      <td>140.816975</td>\n",
       "    </tr>\n",
       "    <tr>\n",
       "      <th>118</th>\n",
       "      <td>183.350336</td>\n",
       "      <td>135.367408</td>\n",
       "      <td>141.454542</td>\n",
       "    </tr>\n",
       "    <tr>\n",
       "      <th>119</th>\n",
       "      <td>183.504942</td>\n",
       "      <td>143.353736</td>\n",
       "      <td>149.252616</td>\n",
       "    </tr>\n",
       "  </tbody>\n",
       "</table>\n",
       "<p>120 rows × 3 columns</p>\n",
       "</div>"
      ],
      "text/plain": [
       "              0           1           2\n",
       "0    100.000000  100.000000  100.000000\n",
       "1    107.511476   97.328549   94.342458\n",
       "2     98.481147  102.235488   90.520664\n",
       "3    101.245460  105.527855   88.755188\n",
       "4     98.450737  104.885118   97.325547\n",
       "..          ...         ...         ...\n",
       "115  176.293527  129.036142  148.405679\n",
       "116  178.878740  136.063954  143.511302\n",
       "117  177.656223  122.475609  140.816975\n",
       "118  183.350336  135.367408  141.454542\n",
       "119  183.504942  143.353736  149.252616\n",
       "\n",
       "[120 rows x 3 columns]"
      ]
     },
     "execution_count": 48,
     "metadata": {},
     "output_type": "execute_result"
    }
   ],
   "source": [
    "p = erk.gbm(n_scenarios=3)\n",
    "p"
   ]
  },
  {
   "cell_type": "code",
   "execution_count": 49,
   "metadata": {},
   "outputs": [
    {
     "data": {
      "text/plain": [
       "<matplotlib.axes._subplots.AxesSubplot at 0x17a333c14c8>"
      ]
     },
     "execution_count": 49,
     "metadata": {},
     "output_type": "execute_result"
    },
    {
     "data": {
      "image/png": "[encoded data removed]",
      "text/plain": [
       "<Figure size 432x288 with 1 Axes>"
      ]
     },
     "metadata": {
      "needs_background": "light"
     },
     "output_type": "display_data"
    }
   ],
   "source": [
    "p.plot()"
   ]
  },
  {
   "cell_type": "code",
   "execution_count": null,
   "metadata": {},
   "outputs": [],
   "source": []
  }
 ],
 "metadata": {
  "kernelspec": {
   "display_name": "Python 3",
   "language": "python",
   "name": "python3"
  },
  "language_info": {
   "codemirror_mode": {
    "name": "ipython",
    "version": 3
   },
   "file_extension": ".py",
   "mimetype": "text/x-python",
   "name": "python",
   "nbconvert_exporter": "python",
   "pygments_lexer": "ipython3",
   "version": "3.7.6"
  }
 },
 "nbformat": 4,
 "nbformat_minor": 4
}
