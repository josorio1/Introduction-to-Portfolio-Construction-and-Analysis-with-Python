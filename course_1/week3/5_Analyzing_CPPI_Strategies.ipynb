{
 "cells": [
  {
   "cell_type": "markdown",
   "metadata": {},
   "source": [
    "## Interactive Plotting and Monte Carlo simulations of CPPI"
   ]
  },
  {
   "cell_type": "code",
   "execution_count": 12,
   "metadata": {},
   "outputs": [
    {
     "name": "stdout",
     "output_type": "stream",
     "text": [
      "The autoreload extension is already loaded. To reload it, use:\n",
      "  %reload_ext autoreload\n"
     ]
    }
   ],
   "source": [
    "import ipywidgets as widgets\n",
    "from IPython.display import display\n",
    "from IPython.html.widgets import fixed # we need to add fixed parameters when interacting with the widget\n",
    "import pandas as pd\n",
    "import edhec_risk_kit as erk\n",
    "import matplotlib.pyplot as plt \n",
    "\n",
    "\n",
    "%load_ext autoreload\n",
    "%autoreload 2"
   ]
  },
  {
   "cell_type": "markdown",
   "metadata": {},
   "source": [
    "### GBM Interactive Plots\n",
    "\n",
    "We will learn how to use a Widget today. In order to do s, we will interact with the function show_gbm, which is basically a plot of the gbm function we introduced in notebook 4."
   ]
  },
  {
   "cell_type": "code",
   "execution_count": 7,
   "metadata": {},
   "outputs": [
    {
     "data": {
      "application/vnd.jupyter.widget-view+json": {
       "model_id": "0ce4cef498414719b2af4b8ca8f4eac2",
       "version_major": 2,
       "version_minor": 0
      },
      "text/plain": [
       "interactive(children=(IntSlider(value=10, description='n_scenarios', max=20, min=1), FloatSlider(value=0.1, de…"
      ]
     },
     "metadata": {},
     "output_type": "display_data"
    }
   ],
   "source": [
    "gbm_controls = widgets.interactive(erk.show_gbm,\n",
    "                                   n_scenarios=(1,20,1), #from 1 to 2 in intervals of 5\n",
    "                                   mu=(0,0.2,0.01),\n",
    "                                   sigma=(0,0.3,0.01),\n",
    "                                   steps_per_year=fixed(12),s_0=fixed(100),n_years=fixed(10) #let's fix these\n",
    "                                  )\n",
    "                                   \n",
    "    \n",
    "gbm_controls"
   ]
  },
  {
   "cell_type": "markdown",
   "metadata": {},
   "source": [
    "If you play with $\\mu$, which is the average return, you will see that if it is close to zero, the stock prices tend to move around the starting price, as there is no return apart from the one coming from the volatility. On the other hand, stock prices obviously tend to increase as you increase $\\mu$.\n",
    "\n",
    "Volatility also plays a huge role in the curves we obtain. If $\\sigma=0$, we will have smooth lines, as there is no fluctuation in the return (we remove the brownian motion). However, if you increase it, you will get noisier curves, as there is space for huge fluctuations."
   ]
  },
  {
   "cell_type": "markdown",
   "metadata": {},
   "source": [
    "### Interactive CPPI Simulation - Monte Carlo"
   ]
  },
  {
   "cell_type": "markdown",
   "metadata": {},
   "source": [
    "We have created a function called \"show_cppi\" which is similar to show_gbm, but in this case it takes into account the CPPI strategy. Apart from this, we have added a histogram that allows us to see how is the stock price distribution in the end and how many floor violations were commited in the whole time series. Again, we can interact with its parameters by using widgets.interactive:"
   ]
  },
  {
   "cell_type": "code",
   "execution_count": 57,
   "metadata": {},
   "outputs": [
    {
     "data": {
      "application/vnd.jupyter.widget-view+json": {
       "model_id": "5789ea6ccee14cea87dc877177791d9d",
       "version_major": 2,
       "version_minor": 0
      },
      "text/plain": [
       "interactive(children=(IntSlider(value=50, description='n_scenarios', max=1000, min=1, step=5), FloatSlider(val…"
      ]
     },
     "metadata": {},
     "output_type": "display_data"
    }
   ],
   "source": [
    "cppi_controls = widgets.interactive(erk.show_cppi,\n",
    "                                    n_scenarios=widgets.IntSlider(min=1,max=1000,step=5,value=50),\n",
    "                                    mu = (0.,0.2,0.01),\n",
    "                                    sigma = (0,.50,0.05),\n",
    "                                    floor=(0,2,.1),\n",
    "                                    m=(1,5,0.5),\n",
    "                                    riskfree_rate=(0,0.05,0.01),\n",
    "                                    y_max = widgets.IntSlider(min=0,max=100,step=1,value=100,\n",
    "                                                            description=\" Zoom Y Axis\"),\n",
    "                                    n_years=fixed(10),\n",
    "                                    steps_per_year=fixed(12),\n",
    "                                    s_0=fixed(100)\n",
    "                                   )\n",
    "                                    \n",
    "                                 \n",
    "                            \n",
    "cppi_controls"
   ]
  },
  {
   "cell_type": "markdown",
   "metadata": {},
   "source": [
    "As you will see if you play around with the widget, it is required a big volatility and m to find some violations, and even more if you want them to be significant."
   ]
  },
  {
   "cell_type": "code",
   "execution_count": null,
   "metadata": {},
   "outputs": [],
   "source": []
  }
 ],
 "metadata": {
  "kernelspec": {
   "display_name": "Python 3",
   "language": "python",
   "name": "python3"
  },
  "language_info": {
   "codemirror_mode": {
    "name": "ipython",
    "version": 3
   },
   "file_extension": ".py",
   "mimetype": "text/x-python",
   "name": "python",
   "nbconvert_exporter": "python",
   "pygments_lexer": "ipython3",
   "version": "3.7.6"
  }
 },
 "nbformat": 4,
 "nbformat_minor": 4
}
