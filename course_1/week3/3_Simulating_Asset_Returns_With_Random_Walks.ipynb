{
 "cells": [
  {
   "cell_type": "markdown",
   "metadata": {},
   "source": [
    "## Stochastic model for asset returns"
   ]
  },
  {
   "cell_type": "markdown",
   "metadata": {},
   "source": [
    "We can model the the return process with the following differential equations:\n",
    "\n",
    "$$\\frac{dS_{t}}{S_{t}} = (r + \\sigma\\lambda)dt + \\sigma\\chi \\sqrt{dt}$$\n",
    "\n",
    "\n",
    "where $S_{t}$ is the asset value, $r$ the risk-free rate, $\\sigma$ and $\\lambda$ the volatility and Sharpe ratio of the asset and $\\chi$ is the normally distributed Brownian motion with mean zero and unit variance. The first term of the right side accounts for the expected return of an asset, while the second term takes into account the contribution of the Brownian motion to the expected return."
   ]
  },
  {
   "cell_type": "markdown",
   "metadata": {},
   "source": [
    "### Monte Carlo simulation"
   ]
  },
  {
   "cell_type": "markdown",
   "metadata": {},
   "source": [
    "All of the quantities we had above are actually time-varying (they are not constant, they change every day). For this reason, we must update our differential equation:\n",
    "\n",
    "$$\\frac{dS_{t}}{S_{t}} = (r_{t} + \\sqrt{V_{t}}\\lambda^{S}_{t})dt + \\sqrt{V_{t}}dW^{S}_{t}$$\n",
    "\n",
    "where V is the variance and dW is another notation that account for the brownian notation. Since these parameters are now time-dependent, we can consider its differentials as:\n",
    "\n",
    "$$dr_{t} = a(\\bar{r}-r_{t})dt + \\sigma_{r}dW^{r}_{t}$$\n",
    "\n",
    "$$dV_{t} = \\alpha(\\bar{V} -V_{t})dt + \\sigma_{V}\\sqrt{V_{t}}dW^{V}_{t}$$\n",
    "\n",
    "In essence, we are considering these quantities to be mean reverting with speed $a$ for $dr$ and $\\alpha$ for $dV$, which means that theoretically they tend to move to their average values over time (https://en.wikipedia.org/wiki/Mean_reversion_(finance))."
   ]
  },
  {
   "cell_type": "markdown",
   "metadata": {},
   "source": []
  }
 ],
 "metadata": {
  "kernelspec": {
   "display_name": "Python 3",
   "language": "python",
   "name": "python3"
  },
  "language_info": {
   "codemirror_mode": {
    "name": "ipython",
    "version": 3
   },
   "file_extension": ".py",
   "mimetype": "text/x-python",
   "name": "python",
   "nbconvert_exporter": "python",
   "pygments_lexer": "ipython3",
   "version": "3.7.6"
  }
 },
 "nbformat": 4,
 "nbformat_minor": 4
}
