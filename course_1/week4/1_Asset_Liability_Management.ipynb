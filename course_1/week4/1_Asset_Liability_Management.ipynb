{
 "cells": [
  {
   "cell_type": "markdown",
   "metadata": {},
   "source": [
    "## Asset-Liability Management\n",
    "\n",
    "In asset-liability management, what matters is asset value relative to liability value, which is called **funding ratio**:\n",
    "\n",
    "$$ F{t} = \\frac{A_{t}}{L_{t}} $$\n",
    "\n",
    "If this ratio is bigger than 1, it means that in the present time you have enough assets to pay your future liabilities. On the other hand, if it less than 1, it means you are underfunded.\n",
    "\n",
    "The **surplus** is the difference between assets and liability values:\n",
    "\n",
    "$$ S_{t} = A_{t} -L_{t} $$"
   ]
  },
  {
   "cell_type": "markdown",
   "metadata": {},
   "source": [
    "## Present Value of Liabilities and Funding Ratio\n",
    "\n",
    "The present value of a set of liabilities $L$ where each liability $L_{i}$ is due at time $t_{i}$ is given by:\n",
    "\n",
    "$$ PV(L) = \\sum^{k}_{i=1} B(t_{i})L_{i}$$\n",
    "\n",
    "where $B(t_{i})$ is the price of a pure discount bond that pays 1 dollas at time $t_{i}$. In other words, $B(t_{1})$ is the value that would cost me today to buy $\\$ 1$ in the future time $t_{i}$.\n",
    "\n",
    "If we assume the yield curve is flat (same interest rate every year) and the annual rate of interest is r, then $B(t)$ is given by:\n",
    "\n",
    "$$ B(t) = \\frac{1}{(1+r)^{t}} $$\n",
    "\n",
    "So if $r > 0$, $\\$ 1$ of the future is cheaper today, or in other words, in the future, $\\$ 1$ would be less valuable.\n",
    "\n",
    "Present Value of liabilities is a way of knowing how much money you need right now to pay your future liabilities if our assets have the same return as the mentioned bond."
   ]
  },
  {
   "cell_type": "code",
   "execution_count": 48,
   "metadata": {},
   "outputs": [
    {
     "name": "stdout",
     "output_type": "stream",
     "text": [
      "The autoreload extension is already loaded. To reload it, use:\n",
      "  %reload_ext autoreload\n"
     ]
    }
   ],
   "source": [
    "import pandas as pd\n",
    "import numpy as np\n",
    "import edhec_risk_kit as erk\n",
    "import ipywidgets as widgets\n",
    "from IPython.html.widgets import fixed # we need to add fixed parameters when interacting with the widget\n",
    "\n",
    "%load_ext autoreload\n",
    "%autoreload 2"
   ]
  },
  {
   "cell_type": "markdown",
   "metadata": {},
   "source": [
    "Let's check how much one 10-year-in-the-future dollar would cost right now if the interest is 3%:"
   ]
  },
  {
   "cell_type": "code",
   "execution_count": 49,
   "metadata": {},
   "outputs": [
    {
     "data": {
      "text/plain": [
       "0.7440939148967249"
      ]
     },
     "execution_count": 49,
     "metadata": {},
     "output_type": "execute_result"
    }
   ],
   "source": [
    "erk.discount_simple(10,0.03)"
   ]
  },
  {
   "cell_type": "markdown",
   "metadata": {},
   "source": [
    "Now we can create some liabilities and find its present value:"
   ]
  },
  {
   "cell_type": "code",
   "execution_count": 50,
   "metadata": {},
   "outputs": [],
   "source": [
    "liabilities = pd.Series(data=[1,1.5,2,2.5], index=[3,3.5,4,4.5]) # index = years in which the liabilities have to be paid"
   ]
  },
  {
   "cell_type": "code",
   "execution_count": 51,
   "metadata": {},
   "outputs": [
    {
     "data": {
      "text/plain": [
       "0    6.23332\n",
       "dtype: float64"
      ]
     },
     "execution_count": 51,
     "metadata": {},
     "output_type": "execute_result"
    }
   ],
   "source": [
    "erk.pv(liabilities,0.03) #present value of liabilities in the future"
   ]
  },
  {
   "cell_type": "code",
   "execution_count": 52,
   "metadata": {},
   "outputs": [
    {
     "data": {
      "text/plain": [
       "7.0"
      ]
     },
     "execution_count": 52,
     "metadata": {},
     "output_type": "execute_result"
    }
   ],
   "source": [
    "sum(liabilities) #value of liabiities in future"
   ]
  },
  {
   "cell_type": "markdown",
   "metadata": {},
   "source": [
    "Let's say that we have 5 dollars in present time. Would it be enough to cover our liabilities?"
   ]
  },
  {
   "cell_type": "code",
   "execution_count": 53,
   "metadata": {},
   "outputs": [
    {
     "data": {
      "text/plain": [
       "0    0.802141\n",
       "dtype: float64"
      ]
     },
     "execution_count": 53,
     "metadata": {},
     "output_type": "execute_result"
    }
   ],
   "source": [
    "erk.funding_ratio_simple(5,liabilities,0.03)"
   ]
  },
  {
   "cell_type": "markdown",
   "metadata": {},
   "source": [
    "Nope, we are 80% funded. Let's have a look at how asset value at present time and interest rate changes the funding ratio by using again ipywidgets:"
   ]
  },
  {
   "cell_type": "code",
   "execution_count": 54,
   "metadata": {},
   "outputs": [
    {
     "data": {
      "application/vnd.jupyter.widget-view+json": {
       "model_id": "d677944b91c2455d9570fde3b06ec699",
       "version_major": 2,
       "version_minor": 0
      },
      "text/plain": [
       "interactive(children=(IntSlider(value=5, description='assets', max=10), FloatSlider(value=0.1, description='r'…"
      ]
     },
     "metadata": {},
     "output_type": "display_data"
    }
   ],
   "source": [
    "controls = widgets.interactive(erk.show_funding_ratio_simple,\n",
    "                             assets = widgets.IntSlider(mn=1,max=10,step=1,value=5),\n",
    "                             r = (0,0.20,0.01),\n",
    "                             liabilities = fixed(pd.Series(data=[1,1.5,2,2.5], index=[3,3.5,4,4.5])) )\n",
    "\n",
    "controls"
   ]
  },
  {
   "cell_type": "markdown",
   "metadata": {},
   "source": [
    "As you can see, increasing the interest rate increases the funding ratio, which is what we are looking for. Why is this? Because the higher the interest rate, the cheaper the future money is."
   ]
  },
  {
   "cell_type": "code",
   "execution_count": null,
   "metadata": {},
   "outputs": [],
   "source": []
  },
  {
   "cell_type": "code",
   "execution_count": null,
   "metadata": {},
   "outputs": [],
   "source": []
  },
  {
   "cell_type": "code",
   "execution_count": null,
   "metadata": {},
   "outputs": [],
   "source": []
  },
  {
   "cell_type": "code",
   "execution_count": null,
   "metadata": {},
   "outputs": [],
   "source": []
  }
 ],
 "metadata": {
  "kernelspec": {
   "display_name": "Python 3",
   "language": "python",
   "name": "python3"
  },
  "language_info": {
   "codemirror_mode": {
    "name": "ipython",
    "version": 3
   },
   "file_extension": ".py",
   "mimetype": "text/x-python",
   "name": "python",
   "nbconvert_exporter": "python",
   "pygments_lexer": "ipython3",
   "version": "3.7.6"
  }
 },
 "nbformat": 4,
 "nbformat_minor": 4
}
