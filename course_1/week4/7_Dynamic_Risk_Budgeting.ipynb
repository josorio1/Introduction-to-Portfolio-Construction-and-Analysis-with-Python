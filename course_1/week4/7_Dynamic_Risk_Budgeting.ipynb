{
 "cells": [
  {
   "cell_type": "markdown",
   "metadata": {},
   "source": [
    "## Dynamic Risk Budgeting\n",
    "\n",
    "In this notebook, we will move to some more sophisticated allocators.\n"
   ]
  },
  {
   "cell_type": "code",
   "execution_count": 15,
   "metadata": {},
   "outputs": [
    {
     "name": "stdout",
     "output_type": "stream",
     "text": [
      "The autoreload extension is already loaded. To reload it, use:\n",
      "  %reload_ext autoreload\n"
     ]
    }
   ],
   "source": [
    "import numpy as np\n",
    "import pandas as pd\n",
    "import edhec_risk_kit as erk\n",
    "import matplotlib.pyplot as plt\n",
    "import seaborn as sns\n",
    "%load_ext autoreload\n",
    "%autoreload 2\n"
   ]
  },
  {
   "cell_type": "code",
   "execution_count": 16,
   "metadata": {},
   "outputs": [],
   "source": [
    "n_scenarios = 500\n",
    "rates, zc_prices = erk.cir(10,n_scenarios=n_scenarios, b=0.03, r_0=0.03,sigma=0.02)\n",
    "price_eq = erk.gbm(n_years=10,n_scenarios=n_scenarios, mu=0.07,sigma=0.15)"
   ]
  },
  {
   "cell_type": "code",
   "execution_count": 17,
   "metadata": {},
   "outputs": [
    {
     "data": {
      "text/html": [
       "<div>\n",
       "<style scoped>\n",
       "    .dataframe tbody tr th:only-of-type {\n",
       "        vertical-align: middle;\n",
       "    }\n",
       "\n",
       "    .dataframe tbody tr th {\n",
       "        vertical-align: top;\n",
       "    }\n",
       "\n",
       "    .dataframe thead th {\n",
       "        text-align: right;\n",
       "    }\n",
       "</style>\n",
       "<table border=\"1\" class=\"dataframe\">\n",
       "  <thead>\n",
       "    <tr style=\"text-align: right;\">\n",
       "      <th></th>\n",
       "      <th>Mean</th>\n",
       "      <th>STD</th>\n",
       "      <th>P_breach</th>\n",
       "      <th>E_short</th>\n",
       "      <th>P_reach</th>\n",
       "      <th>E_surplus</th>\n",
       "    </tr>\n",
       "  </thead>\n",
       "  <tbody>\n",
       "    <tr>\n",
       "      <th>ZC</th>\n",
       "      <td>1.34</td>\n",
       "      <td>0.00</td>\n",
       "      <td>NaN</td>\n",
       "      <td>NaN</td>\n",
       "      <td>NaN</td>\n",
       "      <td>NaN</td>\n",
       "    </tr>\n",
       "    <tr>\n",
       "      <th>Equities</th>\n",
       "      <td>1.96</td>\n",
       "      <td>0.95</td>\n",
       "      <td>0.03</td>\n",
       "      <td>0.11</td>\n",
       "      <td>NaN</td>\n",
       "      <td>NaN</td>\n",
       "    </tr>\n",
       "    <tr>\n",
       "      <th>70/30 mix</th>\n",
       "      <td>1.75</td>\n",
       "      <td>0.58</td>\n",
       "      <td>0.01</td>\n",
       "      <td>0.05</td>\n",
       "      <td>NaN</td>\n",
       "      <td>NaN</td>\n",
       "    </tr>\n",
       "  </tbody>\n",
       "</table>\n",
       "</div>"
      ],
      "text/plain": [
       "           Mean   STD  P_breach  E_short  P_reach  E_surplus\n",
       "ZC         1.34  0.00       NaN      NaN      NaN        NaN\n",
       "Equities   1.96  0.95      0.03     0.11      NaN        NaN\n",
       "70/30 mix  1.75  0.58      0.01     0.05      NaN        NaN"
      ]
     },
     "execution_count": 17,
     "metadata": {},
     "output_type": "execute_result"
    }
   ],
   "source": [
    "rets_eq = price_eq.pct_change()\n",
    "rets_eq.iloc[0] = 0 #first row is returned as a NaN. We should set it to 0, as there is no return.\n",
    "rets_zc = zc_prices.pct_change().dropna()\n",
    "rets_7030 = erk.bt_mix(rets_eq,rets_zc,allocator=erk.fixedmix_allocator,w1=0.7)\n",
    "\n",
    "pd.concat([erk.terminal_stats(rets_zc,name=\"ZC\",floor=0.75),\n",
    "           erk.terminal_stats(rets_eq,name=\"Equities\",floor=0.75),\n",
    "           erk.terminal_stats(rets_7030, name=\"70/30 mix\",floor=0.75)]).round(2)"
   ]
  },
  {
   "cell_type": "markdown",
   "metadata": {},
   "source": [
    "### Floor allocator\n",
    "\n",
    "\n",
    "\n",
    "We will consider two new allocators. The first one is called **floor allocator**, which finds its roots in CPPI strategy:"
   ]
  },
  {
   "cell_type": "code",
   "execution_count": 18,
   "metadata": {},
   "outputs": [],
   "source": [
    "def floor_allocator(psp_r,ghp_r,floor,zc_prices,m=3):\n",
    "    \n",
    "    \"\"\"\n",
    "    Allocate between PSP and GHP with the goal to provide exposure to the upside \n",
    "    of the PSP without going violating the floor.\n",
    "    Uses a CPPI-style dynamic risk budgeting algorith by investing a multiple\n",
    "    of the cushion in the PSP.\n",
    "    Returns a DataFrame with the same shape as the PSP/GHP representing the weights in the PSP\n",
    "    \"\"\"\n",
    "    \n",
    "    if zc_prices.shape != psp_r.shape:\n",
    "        raise ValueError(\"PSP and ZC prices must have the same shape\")\n",
    "    n_steps,n_scenarios = psp_r.shape\n",
    "    account_value = np.repeat(1,n_scenarios)\n",
    "    floor_value = np.repeat(1, n_scenarios)\n",
    "    w_history = pd.DataFrame (index=psp_r.index,columns=psp_r.columns)\n",
    "    for step in range(n_steps):\n",
    "        floor_value = floor*zc_prices.iloc[step] #PV of Floor assuming todays'rates and flat Yield Curve\n",
    "        cushion = (account_value-floor_value)/account_value #gives cushion as percentage.\n",
    "        psp_w = (m*cushion).clip(0,1) # values of m*cushion smaller than become 0 and values bigger than 1 become 1.\n",
    "        #It is a way to bound the weights\n",
    "        ghp_w = 1- psp_w\n",
    "        psp_alloc = account_value*psp_w\n",
    "        ghp_alloc = account_value*ghp_w\n",
    "        #recompute the new account value at the end of this step\n",
    "        account_value = psp_alloc*(1+psp_r.iloc[step]) + ghp_alloc*(1+ghp_r.iloc[step])\n",
    "        w_history.iloc[step] = psp_w\n",
    "        \n",
    "    return w_history"
   ]
  },
  {
   "cell_type": "code",
   "execution_count": 19,
   "metadata": {},
   "outputs": [
    {
     "data": {
      "text/html": [
       "<div>\n",
       "<style scoped>\n",
       "    .dataframe tbody tr th:only-of-type {\n",
       "        vertical-align: middle;\n",
       "    }\n",
       "\n",
       "    .dataframe tbody tr th {\n",
       "        vertical-align: top;\n",
       "    }\n",
       "\n",
       "    .dataframe thead th {\n",
       "        text-align: right;\n",
       "    }\n",
       "</style>\n",
       "<table border=\"1\" class=\"dataframe\">\n",
       "  <thead>\n",
       "    <tr style=\"text-align: right;\">\n",
       "      <th></th>\n",
       "      <th>Mean</th>\n",
       "      <th>STD</th>\n",
       "      <th>P_breach</th>\n",
       "      <th>E_short</th>\n",
       "      <th>P_reach</th>\n",
       "      <th>E_surplus</th>\n",
       "    </tr>\n",
       "  </thead>\n",
       "  <tbody>\n",
       "    <tr>\n",
       "      <th>ZC</th>\n",
       "      <td>1.34</td>\n",
       "      <td>0.00</td>\n",
       "      <td>NaN</td>\n",
       "      <td>NaN</td>\n",
       "      <td>NaN</td>\n",
       "      <td>NaN</td>\n",
       "    </tr>\n",
       "    <tr>\n",
       "      <th>Equities</th>\n",
       "      <td>1.96</td>\n",
       "      <td>0.95</td>\n",
       "      <td>0.03</td>\n",
       "      <td>0.11</td>\n",
       "      <td>NaN</td>\n",
       "      <td>NaN</td>\n",
       "    </tr>\n",
       "    <tr>\n",
       "      <th>70/30 mix</th>\n",
       "      <td>1.75</td>\n",
       "      <td>0.58</td>\n",
       "      <td>0.01</td>\n",
       "      <td>0.05</td>\n",
       "      <td>NaN</td>\n",
       "      <td>NaN</td>\n",
       "    </tr>\n",
       "    <tr>\n",
       "      <th>Floor75</th>\n",
       "      <td>1.93</td>\n",
       "      <td>0.96</td>\n",
       "      <td>NaN</td>\n",
       "      <td>NaN</td>\n",
       "      <td>NaN</td>\n",
       "      <td>NaN</td>\n",
       "    </tr>\n",
       "  </tbody>\n",
       "</table>\n",
       "</div>"
      ],
      "text/plain": [
       "           Mean   STD  P_breach  E_short  P_reach  E_surplus\n",
       "ZC         1.34  0.00       NaN      NaN      NaN        NaN\n",
       "Equities   1.96  0.95      0.03     0.11      NaN        NaN\n",
       "70/30 mix  1.75  0.58      0.01     0.05      NaN        NaN\n",
       "Floor75    1.93  0.96       NaN      NaN      NaN        NaN"
      ]
     },
     "execution_count": 19,
     "metadata": {},
     "output_type": "execute_result"
    }
   ],
   "source": [
    "rets_75 = erk.bt_mix(rets_eq,rets_zc,allocator=erk.floor_allocator,floor=0.75,zc_prices=zc_prices[1:])\n",
    "\n",
    "pd.concat([erk.terminal_stats(rets_zc,name=\"ZC\",floor=0.75),\n",
    "           erk.terminal_stats(rets_eq,name=\"Equities\",floor=0.75),\n",
    "           erk.terminal_stats(rets_7030,name=\"70/30 mix\",floor=0.75),\n",
    "           erk.terminal_stats(rets_75, name=\"Floor75\",floor=0.75)]).round(2)"
   ]
  },
  {
   "cell_type": "markdown",
   "metadata": {},
   "source": [
    "As we can see, the performance of the floor allocator is *extremely* good, as it has almost the same mean return as a 100% equities portfolio and 0 floor breaches. Of course, if m were higher, we might find some breaches, but as long as it is not extremely big, you should still be safe. As an example, let's try m=5:"
   ]
  },
  {
   "cell_type": "code",
   "execution_count": 20,
   "metadata": {},
   "outputs": [
    {
     "data": {
      "text/html": [
       "<div>\n",
       "<style scoped>\n",
       "    .dataframe tbody tr th:only-of-type {\n",
       "        vertical-align: middle;\n",
       "    }\n",
       "\n",
       "    .dataframe tbody tr th {\n",
       "        vertical-align: top;\n",
       "    }\n",
       "\n",
       "    .dataframe thead th {\n",
       "        text-align: right;\n",
       "    }\n",
       "</style>\n",
       "<table border=\"1\" class=\"dataframe\">\n",
       "  <thead>\n",
       "    <tr style=\"text-align: right;\">\n",
       "      <th></th>\n",
       "      <th>Mean</th>\n",
       "      <th>STD</th>\n",
       "      <th>P_breach</th>\n",
       "      <th>E_short</th>\n",
       "      <th>P_reach</th>\n",
       "      <th>E_surplus</th>\n",
       "    </tr>\n",
       "  </thead>\n",
       "  <tbody>\n",
       "    <tr>\n",
       "      <th>Floor75, m=5</th>\n",
       "      <td>1.939459</td>\n",
       "      <td>0.964576</td>\n",
       "      <td>0.002</td>\n",
       "      <td>0.000911</td>\n",
       "      <td>NaN</td>\n",
       "      <td>NaN</td>\n",
       "    </tr>\n",
       "  </tbody>\n",
       "</table>\n",
       "</div>"
      ],
      "text/plain": [
       "                  Mean       STD  P_breach   E_short  P_reach  E_surplus\n",
       "Floor75, m=5  1.939459  0.964576     0.002  0.000911      NaN        NaN"
      ]
     },
     "execution_count": 20,
     "metadata": {},
     "output_type": "execute_result"
    }
   ],
   "source": [
    "rets_75m5 = erk.bt_mix(rets_eq,rets_zc,allocator=erk.floor_allocator,floor=0.75,zc_prices=zc_prices[1:],m=5)\n",
    "erk.terminal_stats(rets_75m5, name=\"Floor75, m=5\",floor=0.75)"
   ]
  },
  {
   "cell_type": "markdown",
   "metadata": {},
   "source": [
    "As you can see the breaches are extremely rate and very small."
   ]
  },
  {
   "cell_type": "markdown",
   "metadata": {},
   "source": [
    "### Drawdown Allocator\n",
    "\n",
    "\n",
    "The second allocator we will work with is the **drawdown allocator**. It is very similar to the floor allocator (it also follows the CPPI strategy), but in this case the floor is updated to follow the maximum drawdown we would allow at any time."
   ]
  },
  {
   "cell_type": "code",
   "execution_count": 21,
   "metadata": {},
   "outputs": [],
   "source": [
    "def drawdown_allocator(psp_r,ghp_r,maxdd, m=3):\n",
    "    \n",
    "    \"\"\"\n",
    "    Allocate between PSP and GHP with the goal to provide exposure to the upside \n",
    "    of the PSP without going violating the floor.\n",
    "    Uses a CPPI-style dynamic risk budgeting algorithm by investing a multiple\n",
    "    of the cushion in the PSP.\n",
    "    Floor is based on the maximum drawdown you would never want to meet at any time (this is the change\n",
    "    with respect to floor_allocator)\n",
    "    Returns a DataFrame with the same shape as the PSP/GHP representing the weights in the PSP\n",
    "    \"\"\"\n",
    "   \n",
    "    n_steps,n_scenarios = psp_r.shape\n",
    "    account_value = np.repeat(1,n_scenarios)\n",
    "    floor_value = np.repeat(1, n_scenarios)\n",
    "    peak_value = np.repeat(1,n_scenarios)\n",
    "    w_history = pd.DataFrame (index=psp_r.index,columns=psp_r.columns)\n",
    "    for step in range(n_steps):\n",
    "        floor_value = (1-maxdd)*peak_value #Floor is based on previous peak. \n",
    "        cushion = (account_value-floor_value)/account_value #gives cushion as percentage.\n",
    "        psp_w = (m*cushion).clip(0,1) # values of m*cushion smaller than become 0 and values bigger than 1 become 1.\n",
    "        #It is a way to bound the weights\n",
    "        ghp_w = 1- psp_w\n",
    "        psp_alloc = account_value*psp_w\n",
    "        ghp_alloc = account_value*ghp_w\n",
    "        #recompute the new account value at the end of this step\n",
    "        account_value = psp_alloc*(1+psp_r.iloc[step]) + ghp_alloc*(1+ghp_r.iloc[step])\n",
    "        peak_value = np.maximum(peak_value,account_value) #peak must be updated to establish new floor\n",
    "        w_history.iloc[step] = psp_w\n",
    "        \n",
    "    return w_history\n"
   ]
  },
  {
   "cell_type": "markdown",
   "metadata": {},
   "source": [
    "In this case, we cannot use the zero-coupon bond, because we need something that has very short duration (for instance, cash). The reason why is because the floor has to be constantly updated. For the floor allocator it was actually updated too, but only to take into account the discount rate of the dollar, so in some sense, the floor was fixed."
   ]
  },
  {
   "cell_type": "code",
   "execution_count": 22,
   "metadata": {},
   "outputs": [],
   "source": [
    "cashrate = 0.02\n",
    "monthly_cashreturn = (1+cashrate)**(1/12) - 1\n",
    "rets_cash = pd.DataFrame(data=monthly_cashreturn, index=rets_eq.index,columns=rets_eq.columns) #DataFrame with unique\n",
    "#value in all positions \n",
    "rets_maxdd25 = erk.bt_mix(rets_eq,rets_cash,allocator=erk.drawdown_allocator,maxdd=.25)\n",
    "\n",
    "\n"
   ]
  },
  {
   "cell_type": "code",
   "execution_count": 23,
   "metadata": {},
   "outputs": [
    {
     "data": {
      "text/html": [
       "<div>\n",
       "<style scoped>\n",
       "    .dataframe tbody tr th:only-of-type {\n",
       "        vertical-align: middle;\n",
       "    }\n",
       "\n",
       "    .dataframe tbody tr th {\n",
       "        vertical-align: top;\n",
       "    }\n",
       "\n",
       "    .dataframe thead th {\n",
       "        text-align: right;\n",
       "    }\n",
       "</style>\n",
       "<table border=\"1\" class=\"dataframe\">\n",
       "  <thead>\n",
       "    <tr style=\"text-align: right;\">\n",
       "      <th></th>\n",
       "      <th>Mean</th>\n",
       "      <th>STD</th>\n",
       "      <th>P_breach</th>\n",
       "      <th>E_short</th>\n",
       "      <th>P_reach</th>\n",
       "      <th>E_surplus</th>\n",
       "    </tr>\n",
       "  </thead>\n",
       "  <tbody>\n",
       "    <tr>\n",
       "      <th>ZC</th>\n",
       "      <td>1.34</td>\n",
       "      <td>0.00</td>\n",
       "      <td>NaN</td>\n",
       "      <td>NaN</td>\n",
       "      <td>NaN</td>\n",
       "      <td>NaN</td>\n",
       "    </tr>\n",
       "    <tr>\n",
       "      <th>Equities</th>\n",
       "      <td>1.96</td>\n",
       "      <td>0.95</td>\n",
       "      <td>0.03</td>\n",
       "      <td>0.11</td>\n",
       "      <td>NaN</td>\n",
       "      <td>NaN</td>\n",
       "    </tr>\n",
       "    <tr>\n",
       "      <th>70/30 mix</th>\n",
       "      <td>1.75</td>\n",
       "      <td>0.58</td>\n",
       "      <td>0.01</td>\n",
       "      <td>0.05</td>\n",
       "      <td>NaN</td>\n",
       "      <td>NaN</td>\n",
       "    </tr>\n",
       "    <tr>\n",
       "      <th>Floor75</th>\n",
       "      <td>1.93</td>\n",
       "      <td>0.96</td>\n",
       "      <td>NaN</td>\n",
       "      <td>NaN</td>\n",
       "      <td>NaN</td>\n",
       "      <td>NaN</td>\n",
       "    </tr>\n",
       "    <tr>\n",
       "      <th>MaxDD25</th>\n",
       "      <td>1.63</td>\n",
       "      <td>0.52</td>\n",
       "      <td>NaN</td>\n",
       "      <td>NaN</td>\n",
       "      <td>NaN</td>\n",
       "      <td>NaN</td>\n",
       "    </tr>\n",
       "  </tbody>\n",
       "</table>\n",
       "</div>"
      ],
      "text/plain": [
       "           Mean   STD  P_breach  E_short  P_reach  E_surplus\n",
       "ZC         1.34  0.00       NaN      NaN      NaN        NaN\n",
       "Equities   1.96  0.95      0.03     0.11      NaN        NaN\n",
       "70/30 mix  1.75  0.58      0.01     0.05      NaN        NaN\n",
       "Floor75    1.93  0.96       NaN      NaN      NaN        NaN\n",
       "MaxDD25    1.63  0.52       NaN      NaN      NaN        NaN"
      ]
     },
     "execution_count": 23,
     "metadata": {},
     "output_type": "execute_result"
    }
   ],
   "source": [
    "pd.concat([erk.terminal_stats(rets_zc,name=\"ZC\",floor=0.75),\n",
    "           erk.terminal_stats(rets_eq,name=\"Equities\",floor=0.75),\n",
    "           erk.terminal_stats(rets_7030,name=\"70/30 mix\",floor=0.75),\n",
    "           erk.terminal_stats(rets_75, name=\"Floor75\",floor=0.75),\n",
    "           erk.terminal_stats(rets_maxdd25, name=\"MaxDD25\",floor=0.75)]).round(2)"
   ]
  },
  {
   "cell_type": "markdown",
   "metadata": {},
   "source": [
    "As you can see, the returns are lower than with the floor allocator, but the volatility is heavily reduced. For the floor allocator you botain a Sharpe ratio of around 2, but for the max drawdown allocator, the Sharpe ratio is approximately 3.3.\n",
    "\n",
    "Let's plot the distribution of the final compounded returns for all the cases we've seen:"
   ]
  },
  {
   "cell_type": "code",
   "execution_count": 24,
   "metadata": {},
   "outputs": [
    {
     "name": "stderr",
     "output_type": "stream",
     "text": [
      "C:\\Users\\jackt\\Anaconda3\\lib\\site-packages\\seaborn\\distributions.py:2551: FutureWarning: `distplot` is a deprecated function and will be removed in a future version. Please adapt your code to use either `displot` (a figure-level function with similar flexibility) or `histplot` (an axes-level function for histograms).\n",
      "  warnings.warn(msg, FutureWarning)\n",
      "C:\\Users\\jackt\\Anaconda3\\lib\\site-packages\\seaborn\\distributions.py:2551: FutureWarning: `distplot` is a deprecated function and will be removed in a future version. Please adapt your code to use either `displot` (a figure-level function with similar flexibility) or `histplot` (an axes-level function for histograms).\n",
      "  warnings.warn(msg, FutureWarning)\n",
      "C:\\Users\\jackt\\Anaconda3\\lib\\site-packages\\seaborn\\distributions.py:2551: FutureWarning: `distplot` is a deprecated function and will be removed in a future version. Please adapt your code to use either `displot` (a figure-level function with similar flexibility) or `histplot` (an axes-level function for histograms).\n",
      "  warnings.warn(msg, FutureWarning)\n",
      "C:\\Users\\jackt\\Anaconda3\\lib\\site-packages\\seaborn\\distributions.py:2551: FutureWarning: `distplot` is a deprecated function and will be removed in a future version. Please adapt your code to use either `displot` (a figure-level function with similar flexibility) or `histplot` (an axes-level function for histograms).\n",
      "  warnings.warn(msg, FutureWarning)\n"
     ]
    },
    {
     "data": {
      "text/plain": [
       "<matplotlib.legend.Legend at 0x19bed537608>"
      ]
     },
     "execution_count": 24,
     "metadata": {},
     "output_type": "execute_result"
    },
    {
     "data": {
      "image/png": "[encoded data removed]",
      "text/plain": [
       "<Figure size 864x432 with 1 Axes>"
      ]
     },
     "metadata": {
      "needs_background": "light"
     },
     "output_type": "display_data"
    }
   ],
   "source": [
    "tv_eq = erk.terminal_values(rets_eq)\n",
    "tv_zc = erk.terminal_values(rets_zc)\n",
    "tv_7030 = erk.terminal_values(rets_7030)\n",
    "tv_floor75 = erk.terminal_values(rets_75)\n",
    "tv_maxdd25 = erk.terminal_values(rets_maxdd25)\n",
    "\n",
    "#Plot\n",
    "\n",
    "plt.figure(figsize=(12,6))\n",
    "sns.distplot(tv_eq,color=\"red\",label=\"100% Equities\",bins=100)\n",
    "plt.axvline(tv_eq.mean(), ls=\"--\", color=\"red\", label= \"100% Equities Mean\")\n",
    "sns.distplot(tv_7030,color=\"orange\",label=\"70/30 Equities/Bonds\",bins=100)\n",
    "plt.axvline(tv_7030.mean(), ls=\"--\", color=\"orange\", label= \"70/30 Equities/Bonds Mean\")\n",
    "sns.distplot(tv_floor75,color=\"green\",label=\"Floor at 75%\",bins=100)\n",
    "plt.axvline(tv_floor75.mean(), ls=\"--\", color=\"green\", label= \"Floor at 75% Mean\")\n",
    "sns.distplot(tv_maxdd25,color=\"purple\",label=\"MaxDD = 25%\",bins=100)\n",
    "plt.axvline(tv_maxdd25.mean(), ls=\"--\", color=\"purple\", label= \"MaxDD =25% Mean\")\n",
    "plt.xticks(np.arange(0, 10, step=1))\n",
    "plt.axvline(0.75,label=\"Set Floor\")\n",
    "plt.xlim(0,10)\n",
    "plt.legend()"
   ]
  },
  {
   "cell_type": "markdown",
   "metadata": {},
   "source": [
    "As you can see, the floor allocator does a tremendously good job as a cutoff. As you can see, in this case the distribution does not have high peaks, but a more or less flat density around 0.75-2 returns. On the other hand, the MaxDD allocator also does a good job at preventing the floor breach, but the distribution is more leptokurtic, with less big returns than any of the other allocators."
   ]
  },
  {
   "cell_type": "markdown",
   "metadata": {},
   "source": [
    "### Drawdown constraint with Historical Data"
   ]
  },
  {
   "cell_type": "code",
   "execution_count": 25,
   "metadata": {},
   "outputs": [],
   "source": [
    "rets_tmi = erk.get_total_market_index_returns()[\"1990\":]\n"
   ]
  },
  {
   "cell_type": "code",
   "execution_count": 26,
   "metadata": {},
   "outputs": [
    {
     "data": {
      "text/plain": [
       "<matplotlib.legend.Legend at 0x19beca04d48>"
      ]
     },
     "execution_count": 26,
     "metadata": {},
     "output_type": "execute_result"
    },
    {
     "data": {
      "image/png": "[encoded data removed]",
      "text/plain": [
       "<Figure size 864x432 with 1 Axes>"
      ]
     },
     "metadata": {
      "needs_background": "light"
     },
     "output_type": "display_data"
    }
   ],
   "source": [
    "cashrate=0.03\n",
    "monthly_cashreturn = (1+cashrate)**(1/12) - 1\n",
    "rets_cash = pd.DataFrame(data=monthly_cashreturn, index=rets_tmi.index, columns=[0]) #1column dataframe\n",
    "rets_tmi.columns=[0] #Eliminate column name to avoid errors\n",
    "rets_maxdd25 = erk.bt_mix(pd.DataFrame(rets_tmi),rets_cash,allocator=erk.drawdown_allocator, maxdd=0.25,m=5)\n",
    "dd_25 = erk.drawdown(rets_maxdd25[0])\n",
    "\n",
    "\n",
    "dd_tmi = erk.drawdown(rets_tmi[0])\n",
    "\n",
    "\n",
    "ax= dd_25[\"Wealth\"].plot(figsize=(12,6),ls=\"-\",color=\"cornflowerblue\",label=\"Wealth MDD25\")\n",
    "dd_25[\"Peaks\"].plot(ax=ax,ls=\":\",color=\"cornflowerblue\",label=\"Peaks MDD25\")\n",
    "dd_tmi[\"Wealth\"].plot(ax=ax,ls=\"-\",color=\"goldenrod\",label=\"Wealth TMI\")\n",
    "dd_tmi[\"Peaks\"].plot(ax=ax,ls=\":\",color=\"goldenrod\",label=\"Peaks TMI\")\n",
    "plt.legend()"
   ]
  },
  {
   "cell_type": "markdown",
   "metadata": {},
   "source": [
    "As you can see, the max drawdown strategy prevents many losses, such as the Dot-Com Bubble or the 2009. However, this also affects the potential gains. Again, you can see there is a trade-off between risk and gains. WE can have a look at some stats:"
   ]
  },
  {
   "cell_type": "code",
   "execution_count": 27,
   "metadata": {},
   "outputs": [
    {
     "data": {
      "text/html": [
       "<div>\n",
       "<style scoped>\n",
       "    .dataframe tbody tr th:only-of-type {\n",
       "        vertical-align: middle;\n",
       "    }\n",
       "\n",
       "    .dataframe tbody tr th {\n",
       "        vertical-align: top;\n",
       "    }\n",
       "\n",
       "    .dataframe thead th {\n",
       "        text-align: right;\n",
       "    }\n",
       "</style>\n",
       "<table border=\"1\" class=\"dataframe\">\n",
       "  <thead>\n",
       "    <tr style=\"text-align: right;\">\n",
       "      <th></th>\n",
       "      <th>Annualized Return</th>\n",
       "      <th>Annualized Vol</th>\n",
       "      <th>Skewness</th>\n",
       "      <th>Kurtosis</th>\n",
       "      <th>Cornish-Fisher VaR (5%)</th>\n",
       "      <th>Cornish-Fisher CVaR</th>\n",
       "      <th>Sharpe Ratio</th>\n",
       "    </tr>\n",
       "  </thead>\n",
       "  <tbody>\n",
       "    <tr>\n",
       "      <th>TMI</th>\n",
       "      <td>0.096058</td>\n",
       "      <td>0.145419</td>\n",
       "      <td>-0.668827</td>\n",
       "      <td>4.247282</td>\n",
       "      <td>0.066949</td>\n",
       "      <td>0.093422</td>\n",
       "      <td>0.441951</td>\n",
       "    </tr>\n",
       "    <tr>\n",
       "      <th>MaxDD</th>\n",
       "      <td>0.090062</td>\n",
       "      <td>0.112755</td>\n",
       "      <td>-0.630463</td>\n",
       "      <td>5.015334</td>\n",
       "      <td>0.049978</td>\n",
       "      <td>0.073855</td>\n",
       "      <td>0.518327</td>\n",
       "    </tr>\n",
       "  </tbody>\n",
       "</table>\n",
       "</div>"
      ],
      "text/plain": [
       "       Annualized Return  Annualized Vol  Skewness  Kurtosis  \\\n",
       "TMI             0.096058        0.145419 -0.668827  4.247282   \n",
       "MaxDD           0.090062        0.112755 -0.630463  5.015334   \n",
       "\n",
       "       Cornish-Fisher VaR (5%)  Cornish-Fisher CVaR  Sharpe Ratio  \n",
       "TMI                   0.066949             0.093422      0.441951  \n",
       "MaxDD                 0.049978             0.073855      0.518327  "
      ]
     },
     "execution_count": 27,
     "metadata": {},
     "output_type": "execute_result"
    }
   ],
   "source": [
    "concat = pd.concat([rets_tmi,rets_maxdd25[0]],axis=1)\n",
    "concat.columns = [\"TMI\",\"MaxDD\"]\n",
    "erk.summarize_stats(concat)"
   ]
  },
  {
   "cell_type": "markdown",
   "metadata": {},
   "source": [
    "We can confirm that with the MaxDD, the annualized return is worse, but the volatility, VaR and CVaR are way better. We can also check the maximum drawdown that happened in both cases:"
   ]
  },
  {
   "cell_type": "code",
   "execution_count": 28,
   "metadata": {},
   "outputs": [
    {
     "name": "stdout",
     "output_type": "stream",
     "text": [
      "-0.24421185188073447 -0.49994347511475795\n"
     ]
    }
   ],
   "source": [
    "print(dd_25[\"Drawdown\"].min(),dd_tmi[\"Drawdown\"].min())"
   ]
  },
  {
   "cell_type": "markdown",
   "metadata": {},
   "source": [
    "Obviously, the protection against drawdown is _much_ better with the drawdown allocator."
   ]
  },
  {
   "cell_type": "code",
   "execution_count": null,
   "metadata": {},
   "outputs": [],
   "source": []
  },
  {
   "cell_type": "code",
   "execution_count": null,
   "metadata": {},
   "outputs": [],
   "source": []
  }
 ],
 "metadata": {
  "kernelspec": {
   "display_name": "Python 3",
   "language": "python",
   "name": "python3"
  },
  "language_info": {
   "codemirror_mode": {
    "name": "ipython",
    "version": 3
   },
   "file_extension": ".py",
   "mimetype": "text/x-python",
   "name": "python",
   "nbconvert_exporter": "python",
   "pygments_lexer": "ipython3",
   "version": "3.7.6"
  }
 },
 "nbformat": 4,
 "nbformat_minor": 4
}
