{
 "cells": [
  {
   "cell_type": "markdown",
   "metadata": {},
   "source": [
    "## GHP Construction with Duration Matching"
   ]
  },
  {
   "cell_type": "code",
   "execution_count": 34,
   "metadata": {},
   "outputs": [
    {
     "name": "stdout",
     "output_type": "stream",
     "text": [
      "The autoreload extension is already loaded. To reload it, use:\n",
      "  %reload_ext autoreload\n"
     ]
    }
   ],
   "source": [
    "import numpy as np\n",
    "import pandas as pd\n",
    "import edhec_risk_kit as erk\n",
    "%load_ext autoreload\n",
    "%autoreload 2\n",
    "import matplotlib.pyplot as plt"
   ]
  },
  {
   "cell_type": "markdown",
   "metadata": {},
   "source": [
    "First of all, let's introduce a new function that returns the money generate by \"cash flow\" bond in each period (not cummulative). In this case, the bond pays some cash in different periods of the year, and when the maturirity is reached, it also returns the initial amount of money invested (here called the principal). Some parameters are assumed, but they can be changed:"
   ]
  },
  {
   "cell_type": "code",
   "execution_count": 35,
   "metadata": {},
   "outputs": [
    {
     "data": {
      "text/plain": [
       "1       0.25\n",
       "2       0.25\n",
       "3       0.25\n",
       "4       0.25\n",
       "5       0.25\n",
       "6       0.25\n",
       "7       0.25\n",
       "8       0.25\n",
       "9       0.25\n",
       "10      0.25\n",
       "11      0.25\n",
       "12      0.25\n",
       "13      0.25\n",
       "14      0.25\n",
       "15      0.25\n",
       "16      0.25\n",
       "17      0.25\n",
       "18      0.25\n",
       "19      0.25\n",
       "20      0.25\n",
       "21      0.25\n",
       "22      0.25\n",
       "23      0.25\n",
       "24      0.25\n",
       "25      0.25\n",
       "26      0.25\n",
       "27      0.25\n",
       "28      0.25\n",
       "29      0.25\n",
       "30      0.25\n",
       "31      0.25\n",
       "32      0.25\n",
       "33      0.25\n",
       "34      0.25\n",
       "35      0.25\n",
       "36    100.25\n",
       "dtype: float64"
      ]
     },
     "execution_count": 35,
     "metadata": {},
     "output_type": "execute_result"
    }
   ],
   "source": [
    "erk.bond_cash_flows(3)"
   ]
  },
  {
   "cell_type": "markdown",
   "metadata": {},
   "source": [
    "Now let's use a function that tells us the present value of a bound for a coupon rate of 0.05 and a discount rate of 0.04. In principle, we should expect the bond to sell at a premium, as the coupon rate is higher than the discount rate."
   ]
  },
  {
   "cell_type": "code",
   "execution_count": 36,
   "metadata": {},
   "outputs": [
    {
     "data": {
      "text/plain": [
       "0    1136.777396\n",
       "dtype: float64"
      ]
     },
     "execution_count": 36,
     "metadata": {},
     "output_type": "execute_result"
    }
   ],
   "source": [
    "erk.bond_price(20,1000,0.05,2,0.04)"
   ]
  },
  {
   "cell_type": "markdown",
   "metadata": {},
   "source": [
    "On the other hand, if both rates are the same, the present value should match our initial investment."
   ]
  },
  {
   "cell_type": "code",
   "execution_count": 37,
   "metadata": {},
   "outputs": [
    {
     "data": {
      "text/plain": [
       "0    100.0\n",
       "dtype: float64"
      ]
     },
     "execution_count": 37,
     "metadata": {},
     "output_type": "execute_result"
    }
   ],
   "source": [
    "erk.bond_price(10,100,0.05,2,0.05)"
   ]
  },
  {
   "cell_type": "markdown",
   "metadata": {},
   "source": [
    "Let's have a look at different values for the discount rate:"
   ]
  },
  {
   "cell_type": "code",
   "execution_count": 38,
   "metadata": {},
   "outputs": [
    {
     "data": {
      "image/png": "[encoded data removed]",
      "text/plain": [
       "<Figure size 432x288 with 1 Axes>"
      ]
     },
     "metadata": {
      "needs_background": "light"
     },
     "output_type": "display_data"
    }
   ],
   "source": [
    "rates = np.linspace(0.01,0.10,20)\n",
    "prices = [erk.bond_price(10,1000,0.05,2,rate) for rate in rates]\n",
    "plt.plot(rates,prices)\n",
    "plt.title(\"Price of 10y bond with different discount rates\")\n",
    "plt.xlabel(\"Discount rate\")\n",
    "plt.ylabel(\"Price of bond\")\n",
    "plt.show()"
   ]
  },
  {
   "cell_type": "markdown",
   "metadata": {},
   "source": [
    "So if the discount rate goes up, the present value of the bond goes down, which means that it is a bad bond.\n",
    "\n",
    "Another thing we can do is calculate how much time it would require the bond to return some money with a present value equal to our initial investment (i.e. the face value of the bond), as it gives cash flows periodically. Because of this, we would expect to need less time than the maturity to \"recover\" our investment. In this case, we will assume that coupon and discount rate are the same:"
   ]
  },
  {
   "cell_type": "code",
   "execution_count": 39,
   "metadata": {},
   "outputs": [
    {
     "data": {
      "text/plain": [
       "5.579707187194534"
      ]
     },
     "execution_count": 39,
     "metadata": {},
     "output_type": "execute_result"
    }
   ],
   "source": [
    "cf = erk.bond_cash_flows(3,1000,0.06,2)\n",
    "\n",
    "discounts = erk.discount_simple(cf.index,0.06/2)\n",
    "\n",
    "dcf = discounts*cf #cashflows must be multiplied by the discounts in each period\n",
    "\n",
    "weights = dcf/dcf.sum() #because they are discounted, cash flows are not equal, so we must calculate their \n",
    "                        #weights \n",
    "    \n",
    "(cf.index*weights).sum() # cf.index is the period in which the cash flow is paid. If we calculate its weighted \n",
    "                         # average, we obtain the effective time it takes to obtain a total cash flow with a present \n",
    "                         # value of our initial investment"
   ]
  },
  {
   "cell_type": "markdown",
   "metadata": {},
   "source": [
    "So technically, we have to wait 6 semesters (3 years) to receive all the money, but as we've been given some money before the maturity, the weight average duration is lower than 12 semesters (**please, bear in mind that the function introduced by Macauly duration has units of the period in which cash is given, in this case, each semester**). This weighted average duration is called the *Macaulay duration*. If we go to the limit of a zero-coupon bond, the Macauly duration would be 6 years, as there is only one payment. On the other hand, shortening the periodicity of the coupons also shortens the Macauly duration.\n",
    "\n",
    "We can also use the function we created for this:"
   ]
  },
  {
   "cell_type": "code",
   "execution_count": 42,
   "metadata": {},
   "outputs": [
    {
     "data": {
      "text/plain": [
       "5.579707187194534"
      ]
     },
     "execution_count": 42,
     "metadata": {},
     "output_type": "execute_result"
    }
   ],
   "source": [
    "erk.macaulay_duration(erk.bond_cash_flows(3,100,0.06,2),0.06/2)"
   ]
  },
  {
   "cell_type": "markdown",
   "metadata": {},
   "source": [
    "### Duration Matching\n",
    "\n",
    "Let' say we have to liabilities in different period times, 10 and 12 years. We would like to have a portfolio with the same duration as our liabilities. We can treat our liabilities as cash flows that have to be paid by year 10 and 12, so we could find its Macaulay duration."
   ]
  },
  {
   "cell_type": "code",
   "execution_count": 43,
   "metadata": {},
   "outputs": [
    {
     "data": {
      "text/plain": [
       "10.960799385088393"
      ]
     },
     "execution_count": 43,
     "metadata": {},
     "output_type": "execute_result"
    }
   ],
   "source": [
    "liabilities = pd.Series(data=[100000,100000],index=[10,12])\n",
    "erk.macaulay_duration(liabilities,0.04)\n"
   ]
  },
  {
   "cell_type": "markdown",
   "metadata": {},
   "source": [
    "So we could buy a zero-coupon bond with maturity of 10.96, or two zero-coupon bonds with maturities of 10 and 12. However, this is not always feasible. Imagine that we only have 20-year and 10-year bonds with face value of 1000 dollars and a 5% annual coupon that pay once a year. Let's find their duration:"
   ]
  },
  {
   "cell_type": "code",
   "execution_count": 45,
   "metadata": {},
   "outputs": [
    {
     "data": {
      "text/plain": [
       "(8.190898824083233, 13.544718122145925)"
      ]
     },
     "execution_count": 45,
     "metadata": {},
     "output_type": "execute_result"
    }
   ],
   "source": [
    "md_10 = erk.macaulay_duration(erk.bond_cash_flows(10,1000,0.05,1),.04)\n",
    "md_20 = erk.macaulay_duration(erk.bond_cash_flows(20,1000,0.05,1),.04)\n",
    "\n",
    "md_10,md_20\n"
   ]
  },
  {
   "cell_type": "markdown",
   "metadata": {},
   "source": [
    "Now we have to find the weights of these bonds that match a duration of 10.96. That is, \n",
    "\n",
    "$$ d_{t} = d_{s}\\cdot w + d_{l}\\cdot (1-w) $$\n",
    "\n",
    "So we have that:\n",
    "\n",
    "$$  w = \\frac{d_{l} - d_{t}}{d_{l} - d_{s}} $$\n",
    "\n",
    "where l and s mean long-duration and short-duration bond. Let's compute the weight:"
   ]
  },
  {
   "cell_type": "code",
   "execution_count": 72,
   "metadata": {},
   "outputs": [
    {
     "data": {
      "text/plain": [
       "0.4826309206947901"
      ]
     },
     "execution_count": 72,
     "metadata": {},
     "output_type": "execute_result"
    }
   ],
   "source": [
    "short_bond = erk.bond_cash_flows(10,1000,0.05,1)\n",
    "long_bond = erk.bond_cash_flows(20,1000,0.05,1)\n",
    "w_s = erk.match_durations(liabilities,short_bond,long_bond,0.04)\n",
    "w_s"
   ]
  },
  {
   "cell_type": "markdown",
   "metadata": {},
   "source": [
    "So this means that you should put 0.48$\\%$ of your money in the short bond and 0.52$\\%$ on the long bond. We can check this:"
   ]
  },
  {
   "cell_type": "code",
   "execution_count": 73,
   "metadata": {},
   "outputs": [
    {
     "data": {
      "text/plain": [
       "10.960799385088391"
      ]
     },
     "execution_count": 73,
     "metadata": {},
     "output_type": "execute_result"
    }
   ],
   "source": [
    "p_short = erk.bond_price(10,1000,0.05,1,0.04)\n",
    "p_long = erk.bond_price(20,1000,0.05,1,0.04)\n",
    "a_0= 130000 #initial investment\n",
    "\n",
    "p_flows = pd.concat([w_s*(a_0/p_short)*short_bond,(1-w_s)*(a_0/p_long)*long_bond]) \n",
    "#the flow generated by each bond is the number of bonds you have (initial investment/price) multiplied by its \n",
    "#weight in our portfolio and the cash flow of a single bond.\n",
    "\n",
    "erk.macaulay_duration(p_flows,0.04)"
   ]
  },
  {
   "cell_type": "markdown",
   "metadata": {},
   "source": [
    "Let's calculate now the funding ratio. We should find it to be around 1:"
   ]
  },
  {
   "cell_type": "code",
   "execution_count": 89,
   "metadata": {},
   "outputs": [],
   "source": [
    "cfr = erk.funding_ratio(p_flows,liabilities,0.04)"
   ]
  },
  {
   "cell_type": "code",
   "execution_count": 90,
   "metadata": {},
   "outputs": [
    {
     "data": {
      "text/plain": [
       "0    0.999876\n",
       "dtype: float64"
      ]
     },
     "execution_count": 90,
     "metadata": {},
     "output_type": "execute_result"
    }
   ],
   "source": [
    "cfr"
   ]
  },
  {
   "cell_type": "markdown",
   "metadata": {},
   "source": [
    "Again, let's consider some othr discount rates:"
   ]
  },
  {
   "cell_type": "code",
   "execution_count": 103,
   "metadata": {},
   "outputs": [
    {
     "data": {
      "text/plain": [
       "Text(0, 0.5, 'Funding Ratio')"
      ]
     },
     "execution_count": 103,
     "metadata": {},
     "output_type": "execute_result"
    },
    {
     "data": {
      "image/png": "[encoded data removed]",
      "text/plain": [
       "<Figure size 864x432 with 1 Axes>"
      ]
     },
     "metadata": {
      "needs_background": "light"
     },
     "output_type": "display_data"
    }
   ],
   "source": [
    "rates = np.linspace(0,.1,20)\n",
    "lb_assets=(a_0/p_long)*long_bond #cash flow of 100% long bond portfolio\n",
    "sb_assets = (a_0/p_short)*short_bond #cash flow of 100% short bond portfolio\n",
    "fr_change = pd.DataFrame({\n",
    "    \"Long Bond\": [erk.funding_ratio(lb_assets,liabilities,r) for r in rates],\n",
    "    \"Short Bond\": [erk.funding_ratio(sb_assets,liabilities,r) for r in rates],\n",
    "    \"Duration Matched Bond\": [erk.funding_ratio(p_flows,liabilities,r) for r in rates]},\n",
    "    index=rates\n",
    ")\n",
    "\n",
    "fr_change.plot(title=\"Funding Ratios with changes in Interest\",figsize=(12,6))\n",
    "\n",
    "plt.xlabel('Duration of Bond')\n",
    "plt.ylabel('Funding Ratio')"
   ]
  },
  {
   "cell_type": "markdown",
   "metadata": {},
   "source": [
    "As we can see, for the weights we calculated with a discount rate of 0.04 (0.48 for short and 0.52 for long), the funding ratio doesn't move very far from 1 (we would have FR of 1 at at discount rate of 0.04). On the other hand, we can see that the funding ratio 100% short/long bond portfolio differs a lot depending on the discount rate."
   ]
  },
  {
   "cell_type": "code",
   "execution_count": null,
   "metadata": {},
   "outputs": [],
   "source": []
  }
 ],
 "metadata": {
  "kernelspec": {
   "display_name": "Python 3",
   "language": "python",
   "name": "python3"
  },
  "language_info": {
   "codemirror_mode": {
    "name": "ipython",
    "version": 3
   },
   "file_extension": ".py",
   "mimetype": "text/x-python",
   "name": "python",
   "nbconvert_exporter": "python",
   "pygments_lexer": "ipython3",
   "version": "3.7.6"
  }
 },
 "nbformat": 4,
 "nbformat_minor": 4
}
