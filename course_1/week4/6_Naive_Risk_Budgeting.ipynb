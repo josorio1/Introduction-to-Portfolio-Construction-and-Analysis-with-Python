{
 "cells": [
  {
   "cell_type": "markdown",
   "metadata": {},
   "source": [
    "## Naive Risk Budgeting Strategies between the PSP and GHP"
   ]
  },
  {
   "cell_type": "code",
   "execution_count": 15,
   "metadata": {},
   "outputs": [
    {
     "name": "stdout",
     "output_type": "stream",
     "text": [
      "The autoreload extension is already loaded. To reload it, use:\n",
      "  %reload_ext autoreload\n"
     ]
    }
   ],
   "source": [
    "import numpy as np\n",
    "import pandas as pd\n",
    "import edhec_risk_kit as erk\n",
    "%load_ext autoreload\n",
    "%autoreload 2"
   ]
  },
  {
   "cell_type": "markdown",
   "metadata": {},
   "source": [
    "Let's create a function that provides us with the best mix for a stock-bond portfolio. As you can see, we have a function called \"allocator\" as a parameter, which is the responsible for finding the best weights for our portfolio. However, we have not yet developed a function that performs this task."
   ]
  },
  {
   "cell_type": "code",
   "execution_count": 16,
   "metadata": {},
   "outputs": [],
   "source": [
    "def bt_mix(r1,r2, allocator, **kwargs):\n",
    "    \n",
    "    \"\"\"\n",
    "    Runs a bak test (simulation) of allocating between a two sets of returns.\n",
    "    r1 and r2 DataFrames or returns with the index as a time and N scenarios.\n",
    "    \"allocator\" is a function that takes two sets of returns and allocator specific parameters,\n",
    "    and produces and allocation to the first portfolio (the rest of the money is invested in GHP)\n",
    "    as a DataFrame.\n",
    "    Returns a DataFrame f the resulting N portfolio scenarios\n",
    "    \"\"\"\n",
    "    \n",
    "    if not r1.shape == r2.shape:\n",
    "        raise ValueError(\"r1 and r2 need to be the same shape\")\n",
    "        \n",
    "    weights = allocator(r1,r2,**kwargs)\n",
    "    \n",
    "    if not weights.shape == r1.shape:\n",
    "        raise ValueError(\"Allocator returned weights that dont match r1\")\n",
    "        \n",
    "    r_mix = weights*r1 + (1-weights)*r2\n",
    "    \n",
    "    return r_mix "
   ]
  },
  {
   "cell_type": "markdown",
   "metadata": {},
   "source": [
    "Let's write now one possible allocator:"
   ]
  },
  {
   "cell_type": "code",
   "execution_count": 17,
   "metadata": {},
   "outputs": [],
   "source": [
    "def fixedmix_allocator(r1,r2,w1,**kwargs):\n",
    "    \n",
    "    \"\"\"\n",
    "    Produces a time series over T steps of allocations between the PSP and GHP across N scenarios.\n",
    "    PSP and GHP are DataFrames that represent the returns of the PSP and GHP such that:\n",
    "         each column is a scenario\n",
    "         each row is the price for a timestep\n",
    "    Returns a DataFrame of PSP Weights\n",
    "    \"\"\"\n",
    "    \n",
    "    #Weight is fixed for any time, so it will return an r1 (or r2, it is the same) shaped\n",
    "    #DataFrame with value w1 in all positions \n",
    "    \n",
    "    return pd.DataFrame(data=w1, index=r1.index,columns=r1.columns) #r1 and r2 index and columns should be the same\n",
    "    "
   ]
  },
  {
   "cell_type": "markdown",
   "metadata": {},
   "source": [
    "Let's  bring back some code we wrote in the previous notebook:"
   ]
  },
  {
   "cell_type": "code",
   "execution_count": 22,
   "metadata": {},
   "outputs": [],
   "source": [
    "rates, zc_prices = erk.cir(10,500,b=0.03,r_0=0.03)\n",
    "price_10 = erk.bond_price(10,100,.05,12,rates)\n",
    "price_30 = erk.bond_price(10,100,.05,12,rates)\n",
    "rets_10 = erk.bond_total_return(price_10,100,0.05,12)\n",
    "rets_30 = erk.bond_total_return(price_30,100,0.05,12)\n",
    "rets_zc = zc_prices.pct_change().dropna() #returns of zero coupon bond. We can do it like this because it\n",
    "#does not give payouts/coupons.\n"
   ]
  },
  {
   "cell_type": "markdown",
   "metadata": {},
   "source": [
    "Let's put to use our new functions by doing a mix of the two bonds:"
   ]
  },
  {
   "cell_type": "code",
   "execution_count": 23,
   "metadata": {},
   "outputs": [
    {
     "data": {
      "text/html": [
       "<div>\n",
       "<style scoped>\n",
       "    .dataframe tbody tr th:only-of-type {\n",
       "        vertical-align: middle;\n",
       "    }\n",
       "\n",
       "    .dataframe tbody tr th {\n",
       "        vertical-align: top;\n",
       "    }\n",
       "\n",
       "    .dataframe thead th {\n",
       "        text-align: right;\n",
       "    }\n",
       "</style>\n",
       "<table border=\"1\" class=\"dataframe\">\n",
       "  <thead>\n",
       "    <tr style=\"text-align: right;\">\n",
       "      <th></th>\n",
       "      <th>Annualized Return</th>\n",
       "      <th>Annualized Vol</th>\n",
       "      <th>Skewness</th>\n",
       "      <th>Kurtosis</th>\n",
       "      <th>Cornish-Fisher VaR (5%)</th>\n",
       "      <th>Cornish-Fisher CVaR</th>\n",
       "      <th>Sharpe Ratio</th>\n",
       "    </tr>\n",
       "  </thead>\n",
       "  <tbody>\n",
       "    <tr>\n",
       "      <th>0</th>\n",
       "      <td>0.03182</td>\n",
       "      <td>0.003404</td>\n",
       "      <td>0.493848</td>\n",
       "      <td>4.446873</td>\n",
       "      <td>-0.001175</td>\n",
       "      <td>-0.000911</td>\n",
       "      <td>0.52031</td>\n",
       "    </tr>\n",
       "  </tbody>\n",
       "</table>\n",
       "</div>"
      ],
      "text/plain": [
       "   Annualized Return  Annualized Vol  Skewness  Kurtosis  \\\n",
       "0            0.03182        0.003404  0.493848  4.446873   \n",
       "\n",
       "   Cornish-Fisher VaR (5%)  Cornish-Fisher CVaR  Sharpe Ratio  \n",
       "0                -0.001175            -0.000911       0.52031  "
      ]
     },
     "execution_count": 23,
     "metadata": {},
     "output_type": "execute_result"
    }
   ],
   "source": [
    "rets_bond = erk.bt_mix(rets_10,rets_30,allocator=erk.fixedmix_allocator,w1=0.6) #\n",
    "mean_rets_bonds = rets_bond.mean(axis='columns')\n",
    "erk.summarize_stats(pd.DataFrame(mean_rets_bonds))"
   ]
  },
  {
   "cell_type": "markdown",
   "metadata": {},
   "source": [
    "We should now generate some stocks as we did in notebook 5 as well:"
   ]
  },
  {
   "cell_type": "code",
   "execution_count": 24,
   "metadata": {},
   "outputs": [],
   "source": [
    "price_eq = erk.gbm(n_years=10,n_scenarios=500,mu=0.07,sigma=0.15)\n",
    "rets_eq = price_eq.pct_change()\n",
    "rets_eq.iloc[0] = 0 #first row is returned as a NaN. We should set it to 0, as there is no return.\n"
   ]
  },
  {
   "cell_type": "markdown",
   "metadata": {},
   "source": [
    "And let's mix the bond mix with the stocks:"
   ]
  },
  {
   "cell_type": "code",
   "execution_count": 25,
   "metadata": {},
   "outputs": [
    {
     "data": {
      "text/html": [
       "<div>\n",
       "<style scoped>\n",
       "    .dataframe tbody tr th:only-of-type {\n",
       "        vertical-align: middle;\n",
       "    }\n",
       "\n",
       "    .dataframe tbody tr th {\n",
       "        vertical-align: top;\n",
       "    }\n",
       "\n",
       "    .dataframe thead th {\n",
       "        text-align: right;\n",
       "    }\n",
       "</style>\n",
       "<table border=\"1\" class=\"dataframe\">\n",
       "  <thead>\n",
       "    <tr style=\"text-align: right;\">\n",
       "      <th></th>\n",
       "      <th>Annualized Return</th>\n",
       "      <th>Annualized Vol</th>\n",
       "      <th>Skewness</th>\n",
       "      <th>Kurtosis</th>\n",
       "      <th>Cornish-Fisher VaR (5%)</th>\n",
       "      <th>Cornish-Fisher CVaR</th>\n",
       "      <th>Sharpe Ratio</th>\n",
       "    </tr>\n",
       "  </thead>\n",
       "  <tbody>\n",
       "    <tr>\n",
       "      <th>0</th>\n",
       "      <td>0.058915</td>\n",
       "      <td>0.004715</td>\n",
       "      <td>-0.268924</td>\n",
       "      <td>3.696007</td>\n",
       "      <td>-0.002551</td>\n",
       "      <td>-0.001978</td>\n",
       "      <td>6.075209</td>\n",
       "    </tr>\n",
       "  </tbody>\n",
       "</table>\n",
       "</div>"
      ],
      "text/plain": [
       "   Annualized Return  Annualized Vol  Skewness  Kurtosis  \\\n",
       "0           0.058915        0.004715 -0.268924  3.696007   \n",
       "\n",
       "   Cornish-Fisher VaR (5%)  Cornish-Fisher CVaR  Sharpe Ratio  \n",
       "0                -0.002551            -0.001978      6.075209  "
      ]
     },
     "execution_count": 25,
     "metadata": {},
     "output_type": "execute_result"
    }
   ],
   "source": [
    "rets_7030 = erk.bt_mix(rets_eq,rets_bond,allocator=erk.fixedmix_allocator,w1=0.7)\n",
    "rets_7030_mean = rets_7030.mean(axis=1)\n",
    "erk.summarize_stats(pd.DataFrame(rets_7030_mean))"
   ]
  },
  {
   "cell_type": "markdown",
   "metadata": {},
   "source": [
    "So you can see that the return is much better, and so is the Sharpe Ratio.\n",
    "\n",
    "We can also compute the summary stats for each scenario, and the compute the mean of these stats. Of, course this takes more time, but having the stats in all periods might be more meaningful than just having the average stats. However, the mean of the stats of each scenario is different from the stats given by the mean return."
   ]
  },
  {
   "cell_type": "code",
   "execution_count": 26,
   "metadata": {},
   "outputs": [
    {
     "data": {
      "text/plain": [
       "Annualized Return          0.053816\n",
       "Annualized Vol             0.105246\n",
       "Skewness                   0.008035\n",
       "Kurtosis                   2.988881\n",
       "Cornish-Fisher VaR (5%)    0.044806\n",
       "Cornish-Fisher CVaR        0.057994\n",
       "Sharpe Ratio               0.226253\n",
       "dtype: float64"
      ]
     },
     "execution_count": 26,
     "metadata": {},
     "output_type": "execute_result"
    }
   ],
   "source": [
    "summaries = erk.summarize_stats(rets_7030)\n",
    "summaries.mean()\n"
   ]
  },
  {
   "cell_type": "markdown",
   "metadata": {},
   "source": [
    "Let's create another function for some other stats:"
   ]
  },
  {
   "cell_type": "code",
   "execution_count": 27,
   "metadata": {},
   "outputs": [],
   "source": [
    "def terminal_stats(rets,floor=0.8,cap=np.inf,name=\"Stats\"):\n",
    "    \n",
    "    \"\"\"\n",
    "    Produce Summary Statistics on the terminal values per invested dollar across\n",
    "    a range of N scenarios.\n",
    "    rets is a DataFrame with returns, with time as index.\n",
    "    Returns a 1 row DataFrame of Summary Stats:\n",
    "    p_breach: percentage of floor breaches\n",
    "    e_breach: mean of the breach value\n",
    "    p_reach: percentage of cap reaches\n",
    "    e_reach: mean of the reach value\n",
    "    \n",
    "    \"\"\"\n",
    "    \n",
    "    terminal_wealth = (rets+1).prod()\n",
    "    breach = terminal_wealth < floor\n",
    "    reach = terminal_wealth >= cap\n",
    "    p_breach = breach.mean() if breach.sum() > 0 else np.nan #percentage of breaches\n",
    "    p_reach = reach.mean() if reach.sum() > 0 else np.nan\n",
    "    e_short = (floor - terminal_wealth[breach]).mean() if breach.sum() > 0 else np.nan #only proceeds when breach==True\n",
    "    e_surplus = (cap-terminal_wealth[reach]).mean() if reach.sum() > 0 else np.nan\n",
    "    sum_stats = pd.DataFrame({\"Mean\": [terminal_wealth.mean()],\n",
    "                             \"STD\": [terminal_wealth.std()],\n",
    "                             \"P_breach\": [p_breach],\n",
    "                             \"E_short\": [e_short],\n",
    "                             \"P_reach\": [p_reach],\n",
    "                             \"E_surplus\": [e_surplus]},\n",
    "                            index = [name])\n",
    "\n",
    "    return sum_stats"
   ]
  },
  {
   "cell_type": "code",
   "execution_count": 29,
   "metadata": {},
   "outputs": [
    {
     "data": {
      "text/html": [
       "<div>\n",
       "<style scoped>\n",
       "    .dataframe tbody tr th:only-of-type {\n",
       "        vertical-align: middle;\n",
       "    }\n",
       "\n",
       "    .dataframe tbody tr th {\n",
       "        vertical-align: top;\n",
       "    }\n",
       "\n",
       "    .dataframe thead th {\n",
       "        text-align: right;\n",
       "    }\n",
       "</style>\n",
       "<table border=\"1\" class=\"dataframe\">\n",
       "  <thead>\n",
       "    <tr style=\"text-align: right;\">\n",
       "      <th></th>\n",
       "      <th>Mean</th>\n",
       "      <th>STD</th>\n",
       "      <th>P_breach</th>\n",
       "      <th>E_short</th>\n",
       "      <th>P_reach</th>\n",
       "      <th>E_surplus</th>\n",
       "    </tr>\n",
       "  </thead>\n",
       "  <tbody>\n",
       "    <tr>\n",
       "      <th>Bonds</th>\n",
       "      <td>1.355417</td>\n",
       "      <td>0.030567</td>\n",
       "      <td>NaN</td>\n",
       "      <td>NaN</td>\n",
       "      <td>NaN</td>\n",
       "      <td>NaN</td>\n",
       "    </tr>\n",
       "    <tr>\n",
       "      <th>Equities</th>\n",
       "      <td>2.022316</td>\n",
       "      <td>1.023966</td>\n",
       "      <td>0.050</td>\n",
       "      <td>0.127463</td>\n",
       "      <td>NaN</td>\n",
       "      <td>NaN</td>\n",
       "    </tr>\n",
       "    <tr>\n",
       "      <th>70/30 mix</th>\n",
       "      <td>1.790096</td>\n",
       "      <td>0.627397</td>\n",
       "      <td>0.012</td>\n",
       "      <td>0.116704</td>\n",
       "      <td>NaN</td>\n",
       "      <td>NaN</td>\n",
       "    </tr>\n",
       "  </tbody>\n",
       "</table>\n",
       "</div>"
      ],
      "text/plain": [
       "               Mean       STD  P_breach   E_short  P_reach  E_surplus\n",
       "Bonds      1.355417  0.030567       NaN       NaN      NaN        NaN\n",
       "Equities   2.022316  1.023966     0.050  0.127463      NaN        NaN\n",
       "70/30 mix  1.790096  0.627397     0.012  0.116704      NaN        NaN"
      ]
     },
     "execution_count": 29,
     "metadata": {},
     "output_type": "execute_result"
    }
   ],
   "source": [
    "pd.concat([erk.terminal_stats(rets_bond,name=\"Bonds\"),erk.terminal_stats(rets_eq,name=\"Equities\"),erk.terminal_stats(rets_7030, name=\"70/30 mix\")])"
   ]
  },
  {
   "cell_type": "markdown",
   "metadata": {},
   "source": [
    "So you can see that with bonds, you _never_ breach the floor, and with a 70/30 mix, the probability is absurd. A full equity portfolio does not have a really big percentage of breach, and it has a return of 2 dollars per dollar invested in 10 years, so it might be worth taking the risk. Let's now do some plotting with a package we have not used until now to see how the terminal returns for the different mixes are distributed"
   ]
  },
  {
   "cell_type": "code",
   "execution_count": 30,
   "metadata": {},
   "outputs": [
    {
     "name": "stderr",
     "output_type": "stream",
     "text": [
      "C:\\Users\\jackt\\Anaconda3\\lib\\site-packages\\seaborn\\distributions.py:2551: FutureWarning: `distplot` is a deprecated function and will be removed in a future version. Please adapt your code to use either `displot` (a figure-level function with similar flexibility) or `histplot` (an axes-level function for histograms).\n",
      "  warnings.warn(msg, FutureWarning)\n",
      "C:\\Users\\jackt\\Anaconda3\\lib\\site-packages\\seaborn\\distributions.py:2551: FutureWarning: `distplot` is a deprecated function and will be removed in a future version. Please adapt your code to use either `displot` (a figure-level function with similar flexibility) or `histplot` (an axes-level function for histograms).\n",
      "  warnings.warn(msg, FutureWarning)\n",
      "C:\\Users\\jackt\\Anaconda3\\lib\\site-packages\\seaborn\\distributions.py:2551: FutureWarning: `distplot` is a deprecated function and will be removed in a future version. Please adapt your code to use either `displot` (a figure-level function with similar flexibility) or `histplot` (an axes-level function for histograms).\n",
      "  warnings.warn(msg, FutureWarning)\n"
     ]
    },
    {
     "data": {
      "text/plain": [
       "<matplotlib.legend.Legend at 0x13f2021b0c8>"
      ]
     },
     "execution_count": 30,
     "metadata": {},
     "output_type": "execute_result"
    },
    {
     "data": {
      "image/png": "[encoded data removed]",
      "text/plain": [
       "<Figure size 720x432 with 1 Axes>"
      ]
     },
     "metadata": {
      "needs_background": "light"
     },
     "output_type": "display_data"
    }
   ],
   "source": [
    "import seaborn as sns\n",
    "import matplotlib.pyplot as plt\n",
    "\n",
    "plt.figure(figsize=(10,6))\n",
    "sns.distplot(erk.terminal_values(rets_eq),color=\"red\",label=(\"100% Equities\"))\n",
    "sns.distplot(erk.terminal_values(rets_bond),color=\"blue\",label=(\"100% Bonds\"))\n",
    "sns.distplot(erk.terminal_values(rets_7030),color=\"orange\",label=(\"70/30 Equities/Bonds\"))\n",
    "plt.legend()\n"
   ]
  },
  {
   "cell_type": "markdown",
   "metadata": {},
   "source": [
    "As you can see, the more equities we have, the flatter the distribution is. On the other hand, with bonds, we have an extremely high peak."
   ]
  },
  {
   "cell_type": "markdown",
   "metadata": {},
   "source": [
    "### Glide Paths for Allocation\n",
    "\n",
    "Instead of having fixed weights, what we can do is set dynamics weights. This way, we could start with a portfolio with a high equity weight and end with a portfolio which is mainly comprised of bonds. This allows us to take more risk in the beginning, where we still have time to recover from losses, but also protect ourselves from severe losses when it is time to match liabilities. The following function sets a starting weight and final weight for the equities (and consequently for the bonds), and changes it in each period by the same amount ($\\frac{w_{f}-w_{s}}{\\# periods}$)"
   ]
  },
  {
   "cell_type": "code",
   "execution_count": 31,
   "metadata": {},
   "outputs": [],
   "source": [
    "def glidepath_allocator(r1,r2,start_glide=1,end_glide=0):\n",
    "    \n",
    "    \"\"\"\n",
    "    Simulates a Target-Date-Fund style gradual move from r1 to r2\n",
    "    Goes from weight 1 (start_glide) to weight 0 (end_glide) as default\n",
    "    \"\"\"\n",
    "    \n",
    "    \n",
    "    n_points = r1.shape[0]\n",
    "    n_col = r1.shape[1]\n",
    "    path = pd.Series(data=np.linspace(start_glide,end_glide,n_points))\n",
    "    paths = pd.concat([path]*n_col,axis=1) #we have n_col scenarios, and all of them follow the same path.\n",
    "    #This way we have n_col columns (one for each scenario) with the same path. Concatenating with axis=1\n",
    "    #is important. In order to understand, try the following: pd.concat([pd.Series([2,3])]*2,axis=1)\n",
    "    paths.index = r1.index\n",
    "    paths.columns = r1.columns\n",
    "    return paths"
   ]
  },
  {
   "cell_type": "code",
   "execution_count": 32,
   "metadata": {},
   "outputs": [],
   "source": [
    "rets_g8020 = erk.bt_mix(rets_eq,rets_bond, allocator=erk.glidepath_allocator,start_glide=.80,end_glide=.20)"
   ]
  },
  {
   "cell_type": "code",
   "execution_count": 33,
   "metadata": {},
   "outputs": [
    {
     "data": {
      "text/html": [
       "<div>\n",
       "<style scoped>\n",
       "    .dataframe tbody tr th:only-of-type {\n",
       "        vertical-align: middle;\n",
       "    }\n",
       "\n",
       "    .dataframe tbody tr th {\n",
       "        vertical-align: top;\n",
       "    }\n",
       "\n",
       "    .dataframe thead th {\n",
       "        text-align: right;\n",
       "    }\n",
       "</style>\n",
       "<table border=\"1\" class=\"dataframe\">\n",
       "  <thead>\n",
       "    <tr style=\"text-align: right;\">\n",
       "      <th></th>\n",
       "      <th>Mean</th>\n",
       "      <th>STD</th>\n",
       "      <th>P_breach</th>\n",
       "      <th>E_short</th>\n",
       "      <th>P_reach</th>\n",
       "      <th>E_surplus</th>\n",
       "    </tr>\n",
       "  </thead>\n",
       "  <tbody>\n",
       "    <tr>\n",
       "      <th>Bonds</th>\n",
       "      <td>1.355417</td>\n",
       "      <td>0.030567</td>\n",
       "      <td>NaN</td>\n",
       "      <td>NaN</td>\n",
       "      <td>NaN</td>\n",
       "      <td>NaN</td>\n",
       "    </tr>\n",
       "    <tr>\n",
       "      <th>Equities</th>\n",
       "      <td>2.022316</td>\n",
       "      <td>1.023966</td>\n",
       "      <td>0.050</td>\n",
       "      <td>0.127463</td>\n",
       "      <td>NaN</td>\n",
       "      <td>NaN</td>\n",
       "    </tr>\n",
       "    <tr>\n",
       "      <th>70/30 mix</th>\n",
       "      <td>1.790096</td>\n",
       "      <td>0.627397</td>\n",
       "      <td>0.012</td>\n",
       "      <td>0.116704</td>\n",
       "      <td>NaN</td>\n",
       "      <td>NaN</td>\n",
       "    </tr>\n",
       "    <tr>\n",
       "      <th>Glide 80 to 20</th>\n",
       "      <td>1.644712</td>\n",
       "      <td>0.431485</td>\n",
       "      <td>0.004</td>\n",
       "      <td>0.039335</td>\n",
       "      <td>NaN</td>\n",
       "      <td>NaN</td>\n",
       "    </tr>\n",
       "  </tbody>\n",
       "</table>\n",
       "</div>"
      ],
      "text/plain": [
       "                    Mean       STD  P_breach   E_short  P_reach  E_surplus\n",
       "Bonds           1.355417  0.030567       NaN       NaN      NaN        NaN\n",
       "Equities        2.022316  1.023966     0.050  0.127463      NaN        NaN\n",
       "70/30 mix       1.790096  0.627397     0.012  0.116704      NaN        NaN\n",
       "Glide 80 to 20  1.644712  0.431485     0.004  0.039335      NaN        NaN"
      ]
     },
     "execution_count": 33,
     "metadata": {},
     "output_type": "execute_result"
    }
   ],
   "source": [
    "pd.concat([erk.terminal_stats(rets_bond,name=\"Bonds\"),\n",
    "           erk.terminal_stats(rets_eq,name=\"Equities\"),\n",
    "           erk.terminal_stats(rets_7030, name=\"70/30 mix\"),\n",
    "           erk.terminal_stats(rets_g8020,name=\"Glide 80 to 20\")])"
   ]
  },
  {
   "cell_type": "code",
   "execution_count": null,
   "metadata": {},
   "outputs": [],
   "source": []
  },
  {
   "cell_type": "code",
   "execution_count": null,
   "metadata": {},
   "outputs": [],
   "source": []
  },
  {
   "cell_type": "code",
   "execution_count": null,
   "metadata": {},
   "outputs": [],
   "source": []
  },
  {
   "cell_type": "code",
   "execution_count": null,
   "metadata": {},
   "outputs": [],
   "source": []
  }
 ],
 "metadata": {
  "kernelspec": {
   "display_name": "Python 3",
   "language": "python",
   "name": "python3"
  },
  "language_info": {
   "codemirror_mode": {
    "name": "ipython",
    "version": 3
   },
   "file_extension": ".py",
   "mimetype": "text/x-python",
   "name": "python",
   "nbconvert_exporter": "python",
   "pygments_lexer": "ipython3",
   "version": "3.7.6"
  }
 },
 "nbformat": 4,
 "nbformat_minor": 4
}
