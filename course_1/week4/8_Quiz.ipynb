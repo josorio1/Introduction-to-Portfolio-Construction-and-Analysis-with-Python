{
 "cells": [
  {
   "cell_type": "markdown",
   "metadata": {},
   "source": [
    "1."
   ]
  },
  {
   "cell_type": "code",
   "execution_count": 48,
   "metadata": {},
   "outputs": [
    {
     "name": "stdout",
     "output_type": "stream",
     "text": [
      "The autoreload extension is already loaded. To reload it, use:\n",
      "  %reload_ext autoreload\n"
     ]
    }
   ],
   "source": [
    "import numpy as np\n",
    "import pandas as pd\n",
    "import edhec_risk_kit as erk\n",
    "import matplotlib.pyplot as plt\n",
    "import seaborn as sns\n",
    "%load_ext autoreload\n",
    "%autoreload 2\n"
   ]
  },
  {
   "cell_type": "code",
   "execution_count": 49,
   "metadata": {},
   "outputs": [
    {
     "name": "stdout",
     "output_type": "stream",
     "text": [
      "0    1000.0\n",
      "dtype: float64 0    1043.99829\n",
      "dtype: float64 0    613.913254\n",
      "dtype: float64\n"
     ]
    }
   ],
   "source": [
    "b1 = erk.bond_price(15,1000,0.05,2,0.05)\n",
    "b2 = erk.bond_price(5,1000,0.06,4,0.05)\n",
    "b3 = erk.bond_price(10,1000,0,1,0.05)\n",
    "print(b1,b2,b3)\n",
    "\n"
   ]
  },
  {
   "cell_type": "code",
   "execution_count": 68,
   "metadata": {},
   "outputs": [
    {
     "name": "stdout",
     "output_type": "stream",
     "text": [
      "10.72677495379012 4.373363222636412 10.0\n"
     ]
    }
   ],
   "source": [
    "md1 = erk.macaulay_duration(erk.bond_cash_flows(15,1000,0.05,2),0.05/2)/2\n",
    "md2 = erk.macaulay_duration(erk.bond_cash_flows(5,1000,0.06,4),0.05/4)/4\n",
    "md3 = erk.macaulay_duration(erk.bond_cash_flows(10,1000,0.0,1),0.05/1)\n",
    "print(md1,md2,md3)"
   ]
  },
  {
   "cell_type": "code",
   "execution_count": 51,
   "metadata": {},
   "outputs": [
    {
     "data": {
      "text/plain": [
       "6.750917852744651"
      ]
     },
     "execution_count": 51,
     "metadata": {},
     "output_type": "execute_result"
    }
   ],
   "source": [
    "liabilities = pd.Series(data=[100000,200000,300000],index=[3,5,10])\n"
   ]
  },
  {
   "cell_type": "code",
   "execution_count": 70,
   "metadata": {},
   "outputs": [
    {
     "data": {
      "text/plain": [
       "0.6257830075060313"
      ]
     },
     "execution_count": 70,
     "metadata": {},
     "output_type": "execute_result"
    }
   ],
   "source": [
    "d_t = erk.macaulay_duration(liabilities,0.05)\n",
    "d_l =  erk.macaulay_duration(erk.bond_cash_flows(15,1000,0.05,2),0.05/2)/2\n",
    "d_s = erk.macaulay_duration(erk.bond_cash_flows(5,1000,0.06,4),0.05/4)/4\n",
    "(d_l-d_t)/(d_l-d_s)\n"
   ]
  },
  {
   "cell_type": "code",
   "execution_count": 71,
   "metadata": {},
   "outputs": [
    {
     "data": {
      "text/plain": [
       "0.5774465770256696"
      ]
     },
     "execution_count": 71,
     "metadata": {},
     "output_type": "execute_result"
    }
   ],
   "source": [
    "d_t = erk.macaulay_duration(liabilities,0.05)\n",
    "d_l =  erk.macaulay_duration(erk.bond_cash_flows(10,1000,0.0,1),0.05/1)\n",
    "d_s = erk.macaulay_duration(erk.bond_cash_flows(5,1000,0.06,4),0.05/4)/4\n",
    "(d_l-d_t)/(d_l-d_s)"
   ]
  },
  {
   "cell_type": "code",
   "execution_count": null,
   "metadata": {},
   "outputs": [],
   "source": []
  }
 ],
 "metadata": {
  "kernelspec": {
   "display_name": "Python 3",
   "language": "python",
   "name": "python3"
  },
  "language_info": {
   "codemirror_mode": {
    "name": "ipython",
    "version": 3
   },
   "file_extension": ".py",
   "mimetype": "text/x-python",
   "name": "python",
   "nbconvert_exporter": "python",
   "pygments_lexer": "ipython3",
   "version": "3.7.6"
  }
 },
 "nbformat": 4,
 "nbformat_minor": 4
}
