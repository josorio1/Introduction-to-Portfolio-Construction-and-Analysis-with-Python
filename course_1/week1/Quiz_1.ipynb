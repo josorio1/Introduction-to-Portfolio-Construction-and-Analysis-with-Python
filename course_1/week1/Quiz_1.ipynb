{
 "cells": [
  {
   "cell_type": "code",
   "execution_count": 28,
   "metadata": {},
   "outputs": [],
   "source": [
    "import pandas as pd\n"
   ]
  },
  {
   "cell_type": "code",
   "execution_count": 29,
   "metadata": {},
   "outputs": [],
   "source": [
    "returns = pd.read_csv('../Data/data/Portfolios_Formed_on_ME_monthly_EW.csv',\n",
    "                    header=0, index_col=0, parse_dates=True, na_values=-99.99)\n",
    "\n",
    "columns = ['Lo 20','Hi 20']\n",
    "returns = returns[columns]\n",
    "returns = returns/100 #the other one is given as a percentage\n",
    "returns.index = pd.to_datetime(returns.index, format=\"%Y%m\")\n",
    "returns.index = returns.index.to_period(\"M\") \n"
   ]
  },
  {
   "cell_type": "code",
   "execution_count": 30,
   "metadata": {},
   "outputs": [
    {
     "name": "stdout",
     "output_type": "stream",
     "text": [
      "Lo 20    0.011860\n",
      "Hi 20    0.007859\n",
      "dtype: float64\n",
      "Lo 20    0.151977\n",
      "Hi 20    0.098490\n",
      "dtype: float64\n"
     ]
    }
   ],
   "source": [
    "\n",
    "\n",
    "\n",
    "n_months = returns.shape[0]\n",
    "\n",
    "return_per_month = (returns+1).prod()**(1/n_months) - 1\n",
    "\n",
    "print(return_per_month)\n",
    "\n",
    "annualized_ret = (return_per_month+1)**12 - 1 \n",
    "print(annualized_ret)"
   ]
  },
  {
   "cell_type": "code",
   "execution_count": 31,
   "metadata": {},
   "outputs": [
    {
     "name": "stdout",
     "output_type": "stream",
     "text": [
      "Lo 20    0.336701\n",
      "Hi 20    0.195116\n",
      "dtype: float64\n"
     ]
    }
   ],
   "source": [
    "import numpy as np\n",
    "\n",
    "annualized_vol = returns.std()*np.sqrt(12)\n",
    "print(annualized_vol)"
   ]
  },
  {
   "cell_type": "code",
   "execution_count": 32,
   "metadata": {},
   "outputs": [
    {
     "name": "stdout",
     "output_type": "stream",
     "text": [
      "-0.5527349978713653\n",
      "-0.6248092431236988\n"
     ]
    }
   ],
   "source": [
    "ret_red=returns[\"1999\":\"2015\"]\n",
    "ret_red\n",
    "wealth_index_hi = 1000*(1+ret_red[\"Hi 20\"]).cumprod()\n",
    "wealth_index_lo = 1000*(1+ret_red[\"Lo 20\"]).cumprod()\n",
    "previous_peaks_hi = wealth_index_hi.cummax()\n",
    "previous_peaks_lo = wealth_index_lo.cummax()\n",
    "drawdown_hi = (wealth_index_hi - previous_peaks_hi)/previous_peaks_hi\n",
    "print(drawdown_hi.min())\n",
    "drawdown_lo = (wealth_index_lo - previous_peaks_lo)/previous_peaks_lo\n",
    "print(drawdown_lo.min())"
   ]
  },
  {
   "cell_type": "code",
   "execution_count": 33,
   "metadata": {},
   "outputs": [
    {
     "name": "stdout",
     "output_type": "stream",
     "text": [
      "2009-02\n",
      "2009-02\n"
     ]
    }
   ],
   "source": [
    "print(drawdown_lo.idxmin())\n",
    "print(drawdown_hi.idxmin())"
   ]
  },
  {
   "cell_type": "code",
   "execution_count": 34,
   "metadata": {},
   "outputs": [],
   "source": [
    "import edhec_risk_kit as erk"
   ]
  },
  {
   "cell_type": "code",
   "execution_count": 55,
   "metadata": {},
   "outputs": [],
   "source": [
    "hfi = erk.get_hfi_returns()\n",
    "\n",
    "hfi = hfi[\"2009\":\"2017\"]\n"
   ]
  },
  {
   "cell_type": "code",
   "execution_count": 56,
   "metadata": {},
   "outputs": [
    {
     "data": {
      "text/html": [
       "<div>\n",
       "<style scoped>\n",
       "    .dataframe tbody tr th:only-of-type {\n",
       "        vertical-align: middle;\n",
       "    }\n",
       "\n",
       "    .dataframe tbody tr th {\n",
       "        vertical-align: top;\n",
       "    }\n",
       "\n",
       "    .dataframe thead th {\n",
       "        text-align: right;\n",
       "    }\n",
       "</style>\n",
       "<table border=\"1\" class=\"dataframe\">\n",
       "  <thead>\n",
       "    <tr style=\"text-align: right;\">\n",
       "      <th></th>\n",
       "      <th>Convertible Arbitrage</th>\n",
       "      <th>CTA Global</th>\n",
       "      <th>Distressed Securities</th>\n",
       "      <th>Emerging Markets</th>\n",
       "      <th>Equity Market Neutral</th>\n",
       "      <th>Event Driven</th>\n",
       "      <th>Fixed Income Arbitrage</th>\n",
       "      <th>Global Macro</th>\n",
       "      <th>Long/Short Equity</th>\n",
       "      <th>Merger Arbitrage</th>\n",
       "      <th>Relative Value</th>\n",
       "      <th>Short Selling</th>\n",
       "      <th>Funds Of Funds</th>\n",
       "    </tr>\n",
       "    <tr>\n",
       "      <th>date</th>\n",
       "      <th></th>\n",
       "      <th></th>\n",
       "      <th></th>\n",
       "      <th></th>\n",
       "      <th></th>\n",
       "      <th></th>\n",
       "      <th></th>\n",
       "      <th></th>\n",
       "      <th></th>\n",
       "      <th></th>\n",
       "      <th></th>\n",
       "      <th></th>\n",
       "      <th></th>\n",
       "    </tr>\n",
       "  </thead>\n",
       "  <tbody>\n",
       "    <tr>\n",
       "      <th>2009-01</th>\n",
       "      <td>0.0491</td>\n",
       "      <td>-0.0016</td>\n",
       "      <td>0.0082</td>\n",
       "      <td>-0.0112</td>\n",
       "      <td>0.0079</td>\n",
       "      <td>0.0132</td>\n",
       "      <td>0.0112</td>\n",
       "      <td>0.0029</td>\n",
       "      <td>-0.0017</td>\n",
       "      <td>0.0056</td>\n",
       "      <td>0.0100</td>\n",
       "      <td>0.0282</td>\n",
       "      <td>0.0060</td>\n",
       "    </tr>\n",
       "    <tr>\n",
       "      <th>2009-02</th>\n",
       "      <td>0.0164</td>\n",
       "      <td>-0.0031</td>\n",
       "      <td>-0.0122</td>\n",
       "      <td>-0.0133</td>\n",
       "      <td>-0.0046</td>\n",
       "      <td>-0.0091</td>\n",
       "      <td>0.0065</td>\n",
       "      <td>-0.0055</td>\n",
       "      <td>-0.0161</td>\n",
       "      <td>0.0006</td>\n",
       "      <td>-0.0016</td>\n",
       "      <td>0.0328</td>\n",
       "      <td>-0.0037</td>\n",
       "    </tr>\n",
       "    <tr>\n",
       "      <th>2009-03</th>\n",
       "      <td>0.0235</td>\n",
       "      <td>-0.0180</td>\n",
       "      <td>0.0022</td>\n",
       "      <td>0.0350</td>\n",
       "      <td>0.0021</td>\n",
       "      <td>0.0117</td>\n",
       "      <td>0.0057</td>\n",
       "      <td>0.0048</td>\n",
       "      <td>0.0188</td>\n",
       "      <td>0.0125</td>\n",
       "      <td>0.0100</td>\n",
       "      <td>-0.0462</td>\n",
       "      <td>0.0008</td>\n",
       "    </tr>\n",
       "    <tr>\n",
       "      <th>2009-04</th>\n",
       "      <td>0.0500</td>\n",
       "      <td>-0.0140</td>\n",
       "      <td>0.0387</td>\n",
       "      <td>0.0663</td>\n",
       "      <td>-0.0012</td>\n",
       "      <td>0.0337</td>\n",
       "      <td>0.0221</td>\n",
       "      <td>0.0127</td>\n",
       "      <td>0.0375</td>\n",
       "      <td>0.0081</td>\n",
       "      <td>0.0342</td>\n",
       "      <td>-0.0820</td>\n",
       "      <td>0.0092</td>\n",
       "    </tr>\n",
       "    <tr>\n",
       "      <th>2009-05</th>\n",
       "      <td>0.0578</td>\n",
       "      <td>0.0213</td>\n",
       "      <td>0.0504</td>\n",
       "      <td>0.0884</td>\n",
       "      <td>0.0146</td>\n",
       "      <td>0.0442</td>\n",
       "      <td>0.0365</td>\n",
       "      <td>0.0348</td>\n",
       "      <td>0.0516</td>\n",
       "      <td>0.0107</td>\n",
       "      <td>0.0392</td>\n",
       "      <td>0.0008</td>\n",
       "      <td>0.0312</td>\n",
       "    </tr>\n",
       "    <tr>\n",
       "      <th>...</th>\n",
       "      <td>...</td>\n",
       "      <td>...</td>\n",
       "      <td>...</td>\n",
       "      <td>...</td>\n",
       "      <td>...</td>\n",
       "      <td>...</td>\n",
       "      <td>...</td>\n",
       "      <td>...</td>\n",
       "      <td>...</td>\n",
       "      <td>...</td>\n",
       "      <td>...</td>\n",
       "      <td>...</td>\n",
       "      <td>...</td>\n",
       "    </tr>\n",
       "    <tr>\n",
       "      <th>2017-08</th>\n",
       "      <td>-0.0012</td>\n",
       "      <td>0.0160</td>\n",
       "      <td>-0.0004</td>\n",
       "      <td>0.0148</td>\n",
       "      <td>0.0058</td>\n",
       "      <td>-0.0029</td>\n",
       "      <td>0.0015</td>\n",
       "      <td>0.0046</td>\n",
       "      <td>0.0069</td>\n",
       "      <td>-0.0004</td>\n",
       "      <td>0.0026</td>\n",
       "      <td>-0.0003</td>\n",
       "      <td>0.0075</td>\n",
       "    </tr>\n",
       "    <tr>\n",
       "      <th>2017-09</th>\n",
       "      <td>0.0065</td>\n",
       "      <td>-0.0194</td>\n",
       "      <td>0.0058</td>\n",
       "      <td>0.0091</td>\n",
       "      <td>0.0045</td>\n",
       "      <td>0.0108</td>\n",
       "      <td>-0.0033</td>\n",
       "      <td>-0.0011</td>\n",
       "      <td>0.0110</td>\n",
       "      <td>0.0039</td>\n",
       "      <td>0.0041</td>\n",
       "      <td>-0.0652</td>\n",
       "      <td>0.0039</td>\n",
       "    </tr>\n",
       "    <tr>\n",
       "      <th>2017-10</th>\n",
       "      <td>0.0060</td>\n",
       "      <td>0.0367</td>\n",
       "      <td>0.0000</td>\n",
       "      <td>0.0137</td>\n",
       "      <td>0.0072</td>\n",
       "      <td>0.0018</td>\n",
       "      <td>0.0031</td>\n",
       "      <td>0.0128</td>\n",
       "      <td>0.0144</td>\n",
       "      <td>0.0023</td>\n",
       "      <td>0.0065</td>\n",
       "      <td>-0.0990</td>\n",
       "      <td>0.0113</td>\n",
       "    </tr>\n",
       "    <tr>\n",
       "      <th>2017-11</th>\n",
       "      <td>0.0002</td>\n",
       "      <td>0.0004</td>\n",
       "      <td>0.0009</td>\n",
       "      <td>0.0080</td>\n",
       "      <td>0.0023</td>\n",
       "      <td>0.0010</td>\n",
       "      <td>0.0005</td>\n",
       "      <td>-0.0023</td>\n",
       "      <td>0.0066</td>\n",
       "      <td>-0.0077</td>\n",
       "      <td>0.0006</td>\n",
       "      <td>-0.0008</td>\n",
       "      <td>-0.0007</td>\n",
       "    </tr>\n",
       "    <tr>\n",
       "      <th>2017-12</th>\n",
       "      <td>0.0025</td>\n",
       "      <td>0.0115</td>\n",
       "      <td>0.0166</td>\n",
       "      <td>0.0162</td>\n",
       "      <td>0.0052</td>\n",
       "      <td>0.0150</td>\n",
       "      <td>0.0009</td>\n",
       "      <td>0.0055</td>\n",
       "      <td>0.0091</td>\n",
       "      <td>0.0078</td>\n",
       "      <td>0.0055</td>\n",
       "      <td>0.0043</td>\n",
       "      <td>0.0064</td>\n",
       "    </tr>\n",
       "  </tbody>\n",
       "</table>\n",
       "<p>108 rows × 13 columns</p>\n",
       "</div>"
      ],
      "text/plain": [
       "         Convertible Arbitrage  CTA Global  Distressed Securities  \\\n",
       "date                                                                \n",
       "2009-01                 0.0491     -0.0016                 0.0082   \n",
       "2009-02                 0.0164     -0.0031                -0.0122   \n",
       "2009-03                 0.0235     -0.0180                 0.0022   \n",
       "2009-04                 0.0500     -0.0140                 0.0387   \n",
       "2009-05                 0.0578      0.0213                 0.0504   \n",
       "...                        ...         ...                    ...   \n",
       "2017-08                -0.0012      0.0160                -0.0004   \n",
       "2017-09                 0.0065     -0.0194                 0.0058   \n",
       "2017-10                 0.0060      0.0367                 0.0000   \n",
       "2017-11                 0.0002      0.0004                 0.0009   \n",
       "2017-12                 0.0025      0.0115                 0.0166   \n",
       "\n",
       "         Emerging Markets  Equity Market Neutral  Event Driven  \\\n",
       "date                                                             \n",
       "2009-01           -0.0112                 0.0079        0.0132   \n",
       "2009-02           -0.0133                -0.0046       -0.0091   \n",
       "2009-03            0.0350                 0.0021        0.0117   \n",
       "2009-04            0.0663                -0.0012        0.0337   \n",
       "2009-05            0.0884                 0.0146        0.0442   \n",
       "...                   ...                    ...           ...   \n",
       "2017-08            0.0148                 0.0058       -0.0029   \n",
       "2017-09            0.0091                 0.0045        0.0108   \n",
       "2017-10            0.0137                 0.0072        0.0018   \n",
       "2017-11            0.0080                 0.0023        0.0010   \n",
       "2017-12            0.0162                 0.0052        0.0150   \n",
       "\n",
       "         Fixed Income Arbitrage  Global Macro  Long/Short Equity  \\\n",
       "date                                                               \n",
       "2009-01                  0.0112        0.0029            -0.0017   \n",
       "2009-02                  0.0065       -0.0055            -0.0161   \n",
       "2009-03                  0.0057        0.0048             0.0188   \n",
       "2009-04                  0.0221        0.0127             0.0375   \n",
       "2009-05                  0.0365        0.0348             0.0516   \n",
       "...                         ...           ...                ...   \n",
       "2017-08                  0.0015        0.0046             0.0069   \n",
       "2017-09                 -0.0033       -0.0011             0.0110   \n",
       "2017-10                  0.0031        0.0128             0.0144   \n",
       "2017-11                  0.0005       -0.0023             0.0066   \n",
       "2017-12                  0.0009        0.0055             0.0091   \n",
       "\n",
       "         Merger Arbitrage  Relative Value  Short Selling  Funds Of Funds  \n",
       "date                                                                      \n",
       "2009-01            0.0056          0.0100         0.0282          0.0060  \n",
       "2009-02            0.0006         -0.0016         0.0328         -0.0037  \n",
       "2009-03            0.0125          0.0100        -0.0462          0.0008  \n",
       "2009-04            0.0081          0.0342        -0.0820          0.0092  \n",
       "2009-05            0.0107          0.0392         0.0008          0.0312  \n",
       "...                   ...             ...            ...             ...  \n",
       "2017-08           -0.0004          0.0026        -0.0003          0.0075  \n",
       "2017-09            0.0039          0.0041        -0.0652          0.0039  \n",
       "2017-10            0.0023          0.0065        -0.0990          0.0113  \n",
       "2017-11           -0.0077          0.0006        -0.0008         -0.0007  \n",
       "2017-12            0.0078          0.0055         0.0043          0.0064  \n",
       "\n",
       "[108 rows x 13 columns]"
      ]
     },
     "execution_count": 56,
     "metadata": {},
     "output_type": "execute_result"
    }
   ],
   "source": [
    "hfi"
   ]
  },
  {
   "cell_type": "code",
   "execution_count": 57,
   "metadata": {},
   "outputs": [],
   "source": [
    "semideviation = erk.semideviation(hfi)"
   ]
  },
  {
   "cell_type": "code",
   "execution_count": 59,
   "metadata": {},
   "outputs": [
    {
     "data": {
      "text/plain": [
       "'Short Selling'"
      ]
     },
     "execution_count": 59,
     "metadata": {},
     "output_type": "execute_result"
    }
   ],
   "source": [
    "semideviation.idxmax()"
   ]
  },
  {
   "cell_type": "code",
   "execution_count": 60,
   "metadata": {},
   "outputs": [],
   "source": [
    "hfi = erk.get_hfi_returns()\n",
    "\n",
    "hfi= hfi[\"2009\":]"
   ]
  },
  {
   "cell_type": "code",
   "execution_count": 65,
   "metadata": {},
   "outputs": [
    {
     "data": {
      "text/plain": [
       "'Equity Market Neutral'"
      ]
     },
     "execution_count": 65,
     "metadata": {},
     "output_type": "execute_result"
    }
   ],
   "source": [
    "erk.skewness(hfi).idxmin()\n"
   ]
  },
  {
   "cell_type": "code",
   "execution_count": 67,
   "metadata": {},
   "outputs": [
    {
     "data": {
      "text/plain": [
       "'Fixed Income Arbitrage'"
      ]
     },
     "execution_count": 67,
     "metadata": {},
     "output_type": "execute_result"
    }
   ],
   "source": [
    "hfi = erk.get_hfi_returns()\n",
    "\n",
    "hfi= hfi[\"2000\":]\n",
    "\n",
    "erk.kurtosis(hfi).idxmax()"
   ]
  },
  {
   "cell_type": "code",
   "execution_count": null,
   "metadata": {},
   "outputs": [],
   "source": []
  }
 ],
 "metadata": {
  "kernelspec": {
   "display_name": "Python 3",
   "language": "python",
   "name": "python3"
  },
  "language_info": {
   "codemirror_mode": {
    "name": "ipython",
    "version": 3
   },
   "file_extension": ".py",
   "mimetype": "text/x-python",
   "name": "python",
   "nbconvert_exporter": "python",
   "pygments_lexer": "ipython3",
   "version": "3.7.6"
  }
 },
 "nbformat": 4,
 "nbformat_minor": 4
}
