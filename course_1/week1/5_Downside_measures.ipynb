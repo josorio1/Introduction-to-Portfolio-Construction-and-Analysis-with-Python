{
 "cells": [
  {
   "cell_type": "markdown",
   "metadata": {},
   "source": [
    "## Downside measures"
   ]
  },
  {
   "cell_type": "markdown",
   "metadata": {},
   "source": [
    "**Semi-deviation:** volatility of the sub-sample of below-average or below-zero returns. It is the same as volatility, but you only take those returns instead of all of them. It is a way to measure how bad your losses can be.\n",
    "\n",
    "**Value at risk (VaR):** maximum expected loss over a given time period. For this, you also need to specify a confidence interval. In order to obtain the VaR, you should go to the return distibution and see what is the worst loss (the extremal point) for the chosen confidence interval. VaR is given as a positive number.\n",
    "\n",
    "**Conditional VaR:** expected loss _beyond_ VaR:\n",
    "\n",
    "$$CVaR = - E(R | R \\leq -VaR)  = \\frac{\\int_{-\\infty}^{-VaR} x\\cdot f_{R}(x) dx}{F_{R}(-VaR)}$$\n",
    "\n",
    "where $f_{r}$ is the probability density of the distribution, and $F_{R}$ is the cumulative probability distribution. Remember that CVaR is also a positive quantity (hence the minus signs)"
   ]
  },
  {
   "cell_type": "markdown",
   "metadata": {},
   "source": [
    "## Estimating VaR"
   ]
  },
  {
   "cell_type": "markdown",
   "metadata": {},
   "source": [
    "There are at least four standard methods for calculating VaR:\n",
    "  \n",
    "  - Historical (non parametric)\n",
    "  - Variance-covariance (parametric gaussian)\n",
    "  - Parametric non gaussian\n",
    "  - Cornish-Fisher (semi parametric)\n",
    "  \n",
    "All of them have their pros and cons"
   ]
  },
  {
   "cell_type": "markdown",
   "metadata": {},
   "source": [
    "#### Historical methodology\n",
    "\n",
    "The VaR is calculated based on the distribution of historial changes in the value of the current portfolio under market prices over the specified historical observation window. It is basically focusing on the extremal values that lie outside or confidence interval (usually the extremal 1% or 5%, i.e the 1-th or 5-th percentile).\n",
    "\n",
    "The pro is that you are not making any assumption. The con is that the estimate you are making of the VaR will depend a lot on the period you are studying.\n",
    "\n",
    "\n",
    "#### Parametric gaussian methodology\n",
    "\n",
    "Calculation of VaR based on portfolio volatility. It considers the $\\alpha$ quantile of the standard normal distribution ($\\mu = 0$ and $\\sigma = 1$, look it up on Google). For example, the 5% (actually, 4.95%) quantile of the distribution, that is the furthest 5% of the distribution from the mean, starts at x = -1.65. If we do the math, the VaR given by this methodology is \n",
    "\n",
    "\n",
    "$$ VaR _{\\alpha} = -(\\mu + x_{a}\\sigma) $$"
   ]
  },
  {
   "cell_type": "markdown",
   "metadata": {},
   "source": [
    "However, remember that gaussian assumptions for assets are NOT very good, so you might understate the real risk."
   ]
  },
  {
   "cell_type": "markdown",
   "metadata": {},
   "source": [
    "#### Parametric non-Gaussian VaR\n",
    "\n",
    "Parametric is good because it mitigates the problem of estimation risk at the cost of model risk. This means that we have to look for a suitable model, that is, usually a non-gaussian parametric.\n",
    "\n",
    "There are plenty of them, but we will not go over them right now."
   ]
  },
  {
   "cell_type": "markdown",
   "metadata": {},
   "source": [
    "#### Cornish-Fisher VaR / Semi-parametric approach\n",
    "\n",
    "The following expansion allows you to relate the $\\alpha$-quantile of a non-Gaussian distribution to the same quantile of a Gaussian distribution. In some sense, you could say it is a correction that allows us to use the same formula for the VaR that we had before:\n",
    "\n",
    "\n",
    "$$ z^{'}_{\\alpha} = z_{\\alpha} + \\frac{1}{6}(z^{2}_{\\alpha}-1)S + \\frac{1}{24}(z^{3}_{\\alpha} - 3z_{\\alpha})(K-3) - \\frac{1}{36}(2z^{3}_{\\alpha}-5z_{\\alpha})S^{2}$$\n",
    "\n",
    "$$ VaR_{\\alpha} = -(\\mu + z^{'}_{\\alpha}\\sigma) $$\n",
    "\n",
    "\n",
    "In general, this is one of the best approaches to evaluate the VaR because it recognizes the non-normality of the assets, but it does not force a certain distribution either.\n",
    "\n",
    "\n"
   ]
  },
  {
   "cell_type": "markdown",
   "metadata": {},
   "source": [
    "## Downside measures (lab)"
   ]
  },
  {
   "cell_type": "code",
   "execution_count": 3,
   "metadata": {},
   "outputs": [],
   "source": [
    "import pandas as pd\n",
    "import edhec_risk_kit as erk\n",
    "%load_ext autoreload\n",
    "%autoreload 2\n",
    "%matplotlib inline"
   ]
  },
  {
   "cell_type": "code",
   "execution_count": 4,
   "metadata": {},
   "outputs": [],
   "source": [
    "hfi = erk.get_hfi_returns()\n",
    "\n"
   ]
  },
  {
   "cell_type": "markdown",
   "metadata": {},
   "source": [
    "#### Semideviation"
   ]
  },
  {
   "cell_type": "code",
   "execution_count": 5,
   "metadata": {},
   "outputs": [
    {
     "data": {
      "text/plain": [
       "Convertible Arbitrage     0.016536\n",
       "CTA Global                0.023290\n",
       "Distressed Securities     0.017009\n",
       "Emerging Markets          0.032476\n",
       "Equity Market Neutral     0.008115\n",
       "Event Driven              0.016712\n",
       "Fixed Income Arbitrage    0.011517\n",
       "Global Macro              0.014694\n",
       "Long/Short Equity         0.019897\n",
       "Merger Arbitrage          0.009600\n",
       "Relative Value            0.011462\n",
       "Short Selling             0.047655\n",
       "Funds Of Funds            0.015536\n",
       "dtype: float64"
      ]
     },
     "execution_count": 5,
     "metadata": {},
     "output_type": "execute_result"
    }
   ],
   "source": [
    "hfi.std(ddof=0) # this was the deviation for all assets"
   ]
  },
  {
   "cell_type": "code",
   "execution_count": 6,
   "metadata": {},
   "outputs": [
    {
     "data": {
      "text/plain": [
       "Convertible Arbitrage     0.019540\n",
       "CTA Global                0.012443\n",
       "Distressed Securities     0.015185\n",
       "Emerging Markets          0.028039\n",
       "Equity Market Neutral     0.009566\n",
       "Event Driven              0.015429\n",
       "Fixed Income Arbitrage    0.017763\n",
       "Global Macro              0.006579\n",
       "Long/Short Equity         0.014051\n",
       "Merger Arbitrage          0.008875\n",
       "Relative Value            0.012244\n",
       "Short Selling             0.027283\n",
       "Funds Of Funds            0.012122\n",
       "dtype: float64"
      ]
     },
     "execution_count": 6,
     "metadata": {},
     "output_type": "execute_result"
    }
   ],
   "source": [
    "erk.semideviation(hfi) # this function only takes into account negative returns of each asset"
   ]
  },
  {
   "cell_type": "markdown",
   "metadata": {},
   "source": [
    "#### VaR and CVaR\n",
    "\n",
    "We are going to work with all the methods we mentioned before, except the Parametric non-Gaussian VaR.\n",
    "\n",
    "In order to do calculate the historical VaR, we need some way to obtain the percentiles. Fortunately, there is a function in numpy that does it for us, which is np.percentile. "
   ]
  },
  {
   "cell_type": "code",
   "execution_count": 7,
   "metadata": {},
   "outputs": [],
   "source": [
    "import numpy as np"
   ]
  },
  {
   "cell_type": "code",
   "execution_count": 8,
   "metadata": {},
   "outputs": [
    {
     "data": {
      "text/plain": [
       "array([-0.01576, -0.03169, -0.01966, -0.04247, -0.00814, -0.02535,\n",
       "       -0.00787, -0.01499, -0.02598, -0.01047, -0.01174, -0.06783,\n",
       "       -0.02047])"
      ]
     },
     "execution_count": 8,
     "metadata": {},
     "output_type": "execute_result"
    }
   ],
   "source": [
    "np.percentile(hfi, 5, axis=0) \n",
    "# percentile 5, axis= 0 means that it will run on columns\n"
   ]
  },
  {
   "cell_type": "markdown",
   "metadata": {},
   "source": [
    "As you can see, when we run np.percentile on a DataFrame, it returns an array. For this reason, we developed a function that runs np.percentile if the object type is a Series, but if it is a DataFrame, it will run \"aggregate\" first. This way, the percentiles will be returned as a Series themselves:"
   ]
  },
  {
   "cell_type": "code",
   "execution_count": 9,
   "metadata": {},
   "outputs": [
    {
     "data": {
      "text/plain": [
       "Convertible Arbitrage     0.01576\n",
       "CTA Global                0.03169\n",
       "Distressed Securities     0.01966\n",
       "Emerging Markets          0.04247\n",
       "Equity Market Neutral     0.00814\n",
       "Event Driven              0.02535\n",
       "Fixed Income Arbitrage    0.00787\n",
       "Global Macro              0.01499\n",
       "Long/Short Equity         0.02598\n",
       "Merger Arbitrage          0.01047\n",
       "Relative Value            0.01174\n",
       "Short Selling             0.06783\n",
       "Funds Of Funds            0.02047\n",
       "dtype: float64"
      ]
     },
     "execution_count": 9,
     "metadata": {},
     "output_type": "execute_result"
    }
   ],
   "source": [
    "erk.var_historic(hfi,per=5)"
   ]
  },
  {
   "cell_type": "markdown",
   "metadata": {},
   "source": [
    "Let's work nw with Gaussian parametric. For this matter, we will use norm.ppf, which gives the $\\alpha$-quantile of a normal distribution."
   ]
  },
  {
   "cell_type": "code",
   "execution_count": 10,
   "metadata": {},
   "outputs": [],
   "source": [
    "from scipy.stats import norm"
   ]
  },
  {
   "cell_type": "code",
   "execution_count": 11,
   "metadata": {},
   "outputs": [
    {
     "data": {
      "text/plain": [
       "0.0"
      ]
     },
     "execution_count": 11,
     "metadata": {},
     "output_type": "execute_result"
    }
   ],
   "source": [
    "norm.ppf(0.5) #This would be the centered point (the mean) which for a standard \n",
    "#gaussian, is 0."
   ]
  },
  {
   "cell_type": "markdown",
   "metadata": {},
   "source": [
    "As we have seen, Gaussian VaR is given by $  -(\\mu + x_{a}\\sigma) $, so the code to obtain the VaR in this case is pretty simple (we will add it to our toolkit). Remember that in this case, we must be a *quantile*, not a *percentile*."
   ]
  },
  {
   "cell_type": "code",
   "execution_count": 12,
   "metadata": {},
   "outputs": [
    {
     "data": {
      "text/plain": [
       "Convertible Arbitrage     0.021691\n",
       "CTA Global                0.034235\n",
       "Distressed Securities     0.021032\n",
       "Emerging Markets          0.047164\n",
       "Equity Market Neutral     0.008850\n",
       "Event Driven              0.021144\n",
       "Fixed Income Arbitrage    0.014579\n",
       "Global Macro              0.018766\n",
       "Long/Short Equity         0.026397\n",
       "Merger Arbitrage          0.010435\n",
       "Relative Value            0.013061\n",
       "Short Selling             0.080086\n",
       "Funds Of Funds            0.021292\n",
       "dtype: float64"
      ]
     },
     "execution_count": 12,
     "metadata": {},
     "output_type": "execute_result"
    }
   ],
   "source": [
    "erk.var_gaussian(hfi)"
   ]
  },
  {
   "cell_type": "markdown",
   "metadata": {},
   "source": [
    "And for the Cornish Fisher we can build another function with the modified/corrected value of the quantile (Z-score):"
   ]
  },
  {
   "cell_type": "code",
   "execution_count": 21,
   "metadata": {},
   "outputs": [
    {
     "data": {
      "text/plain": [
       "Convertible Arbitrage     0.025166\n",
       "CTA Global                0.033094\n",
       "Distressed Securities     0.025102\n",
       "Emerging Markets          0.053011\n",
       "Equity Market Neutral     0.010734\n",
       "Event Driven              0.025516\n",
       "Fixed Income Arbitrage    0.017881\n",
       "Global Macro              0.013581\n",
       "Long/Short Equity         0.027935\n",
       "Merger Arbitrage          0.012612\n",
       "Relative Value            0.016157\n",
       "Short Selling             0.066157\n",
       "Funds Of Funds            0.021576\n",
       "dtype: float64"
      ]
     },
     "execution_count": 21,
     "metadata": {},
     "output_type": "execute_result"
    }
   ],
   "source": [
    "erk.var_cornish_fisher(hfi)"
   ]
  },
  {
   "cell_type": "markdown",
   "metadata": {},
   "source": [
    "Let's gather all the VaR's:"
   ]
  },
  {
   "cell_type": "code",
   "execution_count": 28,
   "metadata": {},
   "outputs": [
    {
     "data": {
      "text/html": [
       "<div>\n",
       "<style scoped>\n",
       "    .dataframe tbody tr th:only-of-type {\n",
       "        vertical-align: middle;\n",
       "    }\n",
       "\n",
       "    .dataframe tbody tr th {\n",
       "        vertical-align: top;\n",
       "    }\n",
       "\n",
       "    .dataframe thead th {\n",
       "        text-align: right;\n",
       "    }\n",
       "</style>\n",
       "<table border=\"1\" class=\"dataframe\">\n",
       "  <thead>\n",
       "    <tr style=\"text-align: right;\">\n",
       "      <th></th>\n",
       "      <th>Historic</th>\n",
       "      <th>Gaussian</th>\n",
       "      <th>Cornish-Fisher</th>\n",
       "    </tr>\n",
       "  </thead>\n",
       "  <tbody>\n",
       "    <tr>\n",
       "      <th>Convertible Arbitrage</th>\n",
       "      <td>0.01576</td>\n",
       "      <td>0.021691</td>\n",
       "      <td>0.025166</td>\n",
       "    </tr>\n",
       "    <tr>\n",
       "      <th>CTA Global</th>\n",
       "      <td>0.03169</td>\n",
       "      <td>0.034235</td>\n",
       "      <td>0.033094</td>\n",
       "    </tr>\n",
       "    <tr>\n",
       "      <th>Distressed Securities</th>\n",
       "      <td>0.01966</td>\n",
       "      <td>0.021032</td>\n",
       "      <td>0.025102</td>\n",
       "    </tr>\n",
       "    <tr>\n",
       "      <th>Emerging Markets</th>\n",
       "      <td>0.04247</td>\n",
       "      <td>0.047164</td>\n",
       "      <td>0.053011</td>\n",
       "    </tr>\n",
       "    <tr>\n",
       "      <th>Equity Market Neutral</th>\n",
       "      <td>0.00814</td>\n",
       "      <td>0.008850</td>\n",
       "      <td>0.010734</td>\n",
       "    </tr>\n",
       "    <tr>\n",
       "      <th>Event Driven</th>\n",
       "      <td>0.02535</td>\n",
       "      <td>0.021144</td>\n",
       "      <td>0.025516</td>\n",
       "    </tr>\n",
       "    <tr>\n",
       "      <th>Fixed Income Arbitrage</th>\n",
       "      <td>0.00787</td>\n",
       "      <td>0.014579</td>\n",
       "      <td>0.017881</td>\n",
       "    </tr>\n",
       "    <tr>\n",
       "      <th>Global Macro</th>\n",
       "      <td>0.01499</td>\n",
       "      <td>0.018766</td>\n",
       "      <td>0.013581</td>\n",
       "    </tr>\n",
       "    <tr>\n",
       "      <th>Long/Short Equity</th>\n",
       "      <td>0.02598</td>\n",
       "      <td>0.026397</td>\n",
       "      <td>0.027935</td>\n",
       "    </tr>\n",
       "    <tr>\n",
       "      <th>Merger Arbitrage</th>\n",
       "      <td>0.01047</td>\n",
       "      <td>0.010435</td>\n",
       "      <td>0.012612</td>\n",
       "    </tr>\n",
       "    <tr>\n",
       "      <th>Relative Value</th>\n",
       "      <td>0.01174</td>\n",
       "      <td>0.013061</td>\n",
       "      <td>0.016157</td>\n",
       "    </tr>\n",
       "    <tr>\n",
       "      <th>Short Selling</th>\n",
       "      <td>0.06783</td>\n",
       "      <td>0.080086</td>\n",
       "      <td>0.066157</td>\n",
       "    </tr>\n",
       "    <tr>\n",
       "      <th>Funds Of Funds</th>\n",
       "      <td>0.02047</td>\n",
       "      <td>0.021292</td>\n",
       "      <td>0.021576</td>\n",
       "    </tr>\n",
       "  </tbody>\n",
       "</table>\n",
       "</div>"
      ],
      "text/plain": [
       "                        Historic  Gaussian  Cornish-Fisher\n",
       "Convertible Arbitrage    0.01576  0.021691        0.025166\n",
       "CTA Global               0.03169  0.034235        0.033094\n",
       "Distressed Securities    0.01966  0.021032        0.025102\n",
       "Emerging Markets         0.04247  0.047164        0.053011\n",
       "Equity Market Neutral    0.00814  0.008850        0.010734\n",
       "Event Driven             0.02535  0.021144        0.025516\n",
       "Fixed Income Arbitrage   0.00787  0.014579        0.017881\n",
       "Global Macro             0.01499  0.018766        0.013581\n",
       "Long/Short Equity        0.02598  0.026397        0.027935\n",
       "Merger Arbitrage         0.01047  0.010435        0.012612\n",
       "Relative Value           0.01174  0.013061        0.016157\n",
       "Short Selling            0.06783  0.080086        0.066157\n",
       "Funds Of Funds           0.02047  0.021292        0.021576"
      ]
     },
     "execution_count": 28,
     "metadata": {},
     "output_type": "execute_result"
    },
    {
     "data": {
      "image/png": "[encoded data removed]",
      "text/plain": [
       "<Figure size 432x288 with 1 Axes>"
      ]
     },
     "metadata": {
      "needs_background": "light"
     },
     "output_type": "display_data"
    }
   ],
   "source": [
    "erk.var_comparison(hfi,plot=True)"
   ]
  },
  {
   "cell_type": "markdown",
   "metadata": {},
   "source": [
    "As you can see, the difference between all three is not extremely big, and none of them is always bigger is smaller than the rest. However, it is true that in most cases, at least for these assets, the Cornish-Fisher VaR is a bit higher."
   ]
  },
  {
   "cell_type": "markdown",
   "metadata": {},
   "source": [
    "#### CVaR\n",
    "\n",
    "Remember that CVaR is just the average of all those returns worse than the VaR. Knowing this, calculating the CVaR is pretty simple once you have the VaR. We will skip the simple functions and go directly to the function cvar_comparison. All the functions for the CVaR have the same name as for the var, but instead of var, you should write \"cvar\":"
   ]
  },
  {
   "cell_type": "code",
   "execution_count": 36,
   "metadata": {},
   "outputs": [
    {
     "data": {
      "text/html": [
       "<div>\n",
       "<style scoped>\n",
       "    .dataframe tbody tr th:only-of-type {\n",
       "        vertical-align: middle;\n",
       "    }\n",
       "\n",
       "    .dataframe tbody tr th {\n",
       "        vertical-align: top;\n",
       "    }\n",
       "\n",
       "    .dataframe thead th {\n",
       "        text-align: right;\n",
       "    }\n",
       "</style>\n",
       "<table border=\"1\" class=\"dataframe\">\n",
       "  <thead>\n",
       "    <tr style=\"text-align: right;\">\n",
       "      <th></th>\n",
       "      <th>Historic</th>\n",
       "      <th>Gaussian</th>\n",
       "      <th>Cornish-Fisher</th>\n",
       "    </tr>\n",
       "  </thead>\n",
       "  <tbody>\n",
       "    <tr>\n",
       "      <th>Convertible Arbitrage</th>\n",
       "      <td>0.036550</td>\n",
       "      <td>0.049687</td>\n",
       "      <td>0.058200</td>\n",
       "    </tr>\n",
       "    <tr>\n",
       "      <th>CTA Global</th>\n",
       "      <td>0.041264</td>\n",
       "      <td>0.043527</td>\n",
       "      <td>0.042000</td>\n",
       "    </tr>\n",
       "    <tr>\n",
       "      <th>Distressed Securities</th>\n",
       "      <td>0.036429</td>\n",
       "      <td>0.040864</td>\n",
       "      <td>0.055600</td>\n",
       "    </tr>\n",
       "    <tr>\n",
       "      <th>Emerging Markets</th>\n",
       "      <td>0.072364</td>\n",
       "      <td>0.083820</td>\n",
       "      <td>0.092488</td>\n",
       "    </tr>\n",
       "    <tr>\n",
       "      <th>Equity Market Neutral</th>\n",
       "      <td>0.016879</td>\n",
       "      <td>0.018292</td>\n",
       "      <td>0.021044</td>\n",
       "    </tr>\n",
       "    <tr>\n",
       "      <th>Event Driven</th>\n",
       "      <td>0.038336</td>\n",
       "      <td>0.037440</td>\n",
       "      <td>0.039331</td>\n",
       "    </tr>\n",
       "    <tr>\n",
       "      <th>Fixed Income Arbitrage</th>\n",
       "      <td>0.028257</td>\n",
       "      <td>0.052500</td>\n",
       "      <td>0.052500</td>\n",
       "    </tr>\n",
       "    <tr>\n",
       "      <th>Global Macro</th>\n",
       "      <td>0.020629</td>\n",
       "      <td>0.025783</td>\n",
       "      <td>0.019244</td>\n",
       "    </tr>\n",
       "    <tr>\n",
       "      <th>Long/Short Equity</th>\n",
       "      <td>0.041943</td>\n",
       "      <td>0.043162</td>\n",
       "      <td>0.044558</td>\n",
       "    </tr>\n",
       "    <tr>\n",
       "      <th>Merger Arbitrage</th>\n",
       "      <td>0.019143</td>\n",
       "      <td>0.019143</td>\n",
       "      <td>0.023400</td>\n",
       "    </tr>\n",
       "    <tr>\n",
       "      <th>Relative Value</th>\n",
       "      <td>0.024650</td>\n",
       "      <td>0.026733</td>\n",
       "      <td>0.029310</td>\n",
       "    </tr>\n",
       "    <tr>\n",
       "      <th>Short Selling</th>\n",
       "      <td>0.096821</td>\n",
       "      <td>0.106620</td>\n",
       "      <td>0.093075</td>\n",
       "    </tr>\n",
       "    <tr>\n",
       "      <th>Funds Of Funds</th>\n",
       "      <td>0.033207</td>\n",
       "      <td>0.034185</td>\n",
       "      <td>0.034185</td>\n",
       "    </tr>\n",
       "  </tbody>\n",
       "</table>\n",
       "</div>"
      ],
      "text/plain": [
       "                        Historic  Gaussian  Cornish-Fisher\n",
       "Convertible Arbitrage   0.036550  0.049687        0.058200\n",
       "CTA Global              0.041264  0.043527        0.042000\n",
       "Distressed Securities   0.036429  0.040864        0.055600\n",
       "Emerging Markets        0.072364  0.083820        0.092488\n",
       "Equity Market Neutral   0.016879  0.018292        0.021044\n",
       "Event Driven            0.038336  0.037440        0.039331\n",
       "Fixed Income Arbitrage  0.028257  0.052500        0.052500\n",
       "Global Macro            0.020629  0.025783        0.019244\n",
       "Long/Short Equity       0.041943  0.043162        0.044558\n",
       "Merger Arbitrage        0.019143  0.019143        0.023400\n",
       "Relative Value          0.024650  0.026733        0.029310\n",
       "Short Selling           0.096821  0.106620        0.093075\n",
       "Funds Of Funds          0.033207  0.034185        0.034185"
      ]
     },
     "execution_count": 36,
     "metadata": {},
     "output_type": "execute_result"
    },
    {
     "data": {
      "image/png": "[encoded data removed]",
      "text/plain": [
       "<Figure size 432x288 with 1 Axes>"
      ]
     },
     "metadata": {
      "needs_background": "light"
     },
     "output_type": "display_data"
    }
   ],
   "source": [
    "erk.cvar_comparison(hfi,plot=True)\n",
    "     "
   ]
  },
  {
   "cell_type": "markdown",
   "metadata": {},
   "source": [
    "We could arrive to the same conclusions for CVaR."
   ]
  },
  {
   "cell_type": "code",
   "execution_count": null,
   "metadata": {},
   "outputs": [],
   "source": []
  }
 ],
 "metadata": {
  "kernelspec": {
   "display_name": "Python 3",
   "language": "python",
   "name": "python3"
  },
  "language_info": {
   "codemirror_mode": {
    "name": "ipython",
    "version": 3
   },
   "file_extension": ".py",
   "mimetype": "text/x-python",
   "name": "python",
   "nbconvert_exporter": "python",
   "pygments_lexer": "ipython3",
   "version": "3.7.6"
  }
 },
 "nbformat": 4,
 "nbformat_minor": 4
}
