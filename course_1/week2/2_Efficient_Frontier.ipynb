{
 "cells": [
  {
   "cell_type": "markdown",
   "metadata": {},
   "source": [
    "## Efficient frontier"
   ]
  },
  {
   "cell_type": "markdown",
   "metadata": {},
   "source": [
    "#### Portfolio analysis"
   ]
  },
  {
   "cell_type": "code",
   "execution_count": 1,
   "metadata": {},
   "outputs": [],
   "source": [
    "import pandas as pd\n",
    "import numpy as np\n",
    "import edhec_risk_kit as erk\n",
    "\n"
   ]
  },
  {
   "cell_type": "code",
   "execution_count": 2,
   "metadata": {},
   "outputs": [],
   "source": [
    "%load_ext autoreload\n",
    "%autoreload 2\n",
    "%matplotlib inline"
   ]
  },
  {
   "cell_type": "markdown",
   "metadata": {},
   "source": [
    "This time, we will use another file. Since we are going to use it more than once, I created a function that returns the formatted DataFrame."
   ]
  },
  {
   "cell_type": "code",
   "execution_count": null,
   "metadata": {},
   "outputs": [],
   "source": [
    "ind = erk.get_ind_returns()"
   ]
  },
  {
   "cell_type": "code",
   "execution_count": null,
   "metadata": {},
   "outputs": [],
   "source": [
    "ind.head()"
   ]
  },
  {
   "cell_type": "markdown",
   "metadata": {},
   "source": [
    "Let's compute the drawdowns from the food column:"
   ]
  },
  {
   "cell_type": "code",
   "execution_count": null,
   "metadata": {},
   "outputs": [],
   "source": [
    "erk.drawdown(ind[\"Food\"])[\"Drawdown\"].plot(figsize=(12,6))"
   ]
  },
  {
   "cell_type": "markdown",
   "metadata": {},
   "source": [
    "Let's now have a look at the VaR for some indices."
   ]
  },
  {
   "cell_type": "code",
   "execution_count": null,
   "metadata": {},
   "outputs": [],
   "source": [
    "erk.var_comparison(ind[[\"Food\",\"Smoke\",\"Coal\",\"Beer\",\"Fin\"]],plot=True)"
   ]
  },
  {
   "cell_type": "markdown",
   "metadata": {},
   "source": [
    "As you can see, it seems that Cornish-Fisher VaR gives much lower VaR, especially with the coal. In general, we can see the the lowest VaR is for the food. Another thing that we should point out is that Food and Smoke have the most seemingly normal behaviour (Gaussian and Cornish-Fisher VaR are very similar). We can check if this is true by having a look at the skewness and kurtosis. In some sense, this can make sense, as both smoking and eating  should not have frequent extreme deviations (steady amount of consumers and consumption). However, I would guess that if we divide food into different industries, we would see a lot of deviations from normality."
   ]
  },
  {
   "cell_type": "code",
   "execution_count": null,
   "metadata": {},
   "outputs": [],
   "source": [
    "erk.kurtosis(ind[[\"Food\",\"Smoke\",\"Coal\",\"Beer\",\"Fin\"]])"
   ]
  },
  {
   "cell_type": "code",
   "execution_count": null,
   "metadata": {},
   "outputs": [],
   "source": [
    "erk.skewness(ind[[\"Food\",\"Smoke\",\"Coal\",\"Beer\",\"Fin\"]]) "
   ]
  },
  {
   "cell_type": "code",
   "execution_count": null,
   "metadata": {},
   "outputs": [],
   "source": [
    "ind[[\"Food\",\"Smoke\",\"Coal\",\"Beer\",\"Fin\"]].std(ddof=0)"
   ]
  },
  {
   "cell_type": "markdown",
   "metadata": {},
   "source": [
    "Let's have a look at the Cornish_Fisher VaR for all industries:"
   ]
  },
  {
   "cell_type": "code",
   "execution_count": null,
   "metadata": {},
   "outputs": [],
   "source": [
    "erk.var_cornish_fisher(ind).sort_values().plot.bar()\n"
   ]
  },
  {
   "cell_type": "markdown",
   "metadata": {},
   "source": [
    "We can compute some statistics for the returns, for example, the Sharpe ratio. We will assume a risk-free rate of 0.03. Since the periods of the given returns are months, we have 12 periods per year:"
   ]
  },
  {
   "cell_type": "code",
   "execution_count": null,
   "metadata": {},
   "outputs": [],
   "source": [
    "erk.sharpe_ratio(ind,0.03,12).sort_values().plot.bar(title=\"Industry Sharpe Ratios 1926-2018\",color=\"green\")"
   ]
  },
  {
   "cell_type": "markdown",
   "metadata": {},
   "source": [
    "So food, smoke and health industry have given really good results, compared to some industries such as coal or steel. Beer, which is one of the Top 3 in the welath index has also given good Sharpe ratios. Let's have a look at Sharpe ratio from 2000-2018, which might be more representative."
   ]
  },
  {
   "cell_type": "code",
   "execution_count": null,
   "metadata": {},
   "outputs": [],
   "source": [
    "erk.sharpe_ratio(ind[\"2000\":],0.03,12).sort_values().plot.bar(title=\"Industry Sharpe Ratios 2000-2018\",color=\"green\")"
   ]
  },
  {
   "cell_type": "markdown",
   "metadata": {},
   "source": [
    "It is interesting to see how Meals industry has tremendously improved its SR, but also the smoke industry. Another interesting fact is that both food and meal industry have more or less the same SR. What we can do next is calculate the difference between 2000-2018 and 1926-2018. This allows us to see how the industries have developed with time."
   ]
  },
  {
   "cell_type": "code",
   "execution_count": null,
   "metadata": {},
   "outputs": [],
   "source": [
    "(erk.sharpe_ratio(ind[\"2000\":],0.03,12)-erk.sharpe_ratio(ind,0.03,12)).sort_values().plot.bar(title=r\"(Industry SR$_{2000-2018}$ / Industry SR$_{1926-2018})-1$\",color=\"green\")"
   ]
  },
  {
   "cell_type": "markdown",
   "metadata": {},
   "source": [
    "As we said before, Meals and Smoke industries have improved a lot. Food and Beer are pretty steady in time, while Telecommunications, Business Equities, Automovilistics and Books have taken an extremely big hit. To be honest, none of them are surprising."
   ]
  },
  {
   "cell_type": "markdown",
   "metadata": {},
   "source": [
    "#### Efficient frontier"
   ]
  },
  {
   "cell_type": "markdown",
   "metadata": {},
   "source": [
    "We will study the returns from 1995 to 2000. As we have seen in classes, our task now is to find the sweet spot that "
   ]
  },
  {
   "cell_type": "code",
   "execution_count": null,
   "metadata": {},
   "outputs": [],
   "source": [
    "er = erk.annualized_rets(ind[\"1995\":\"2000\"],12)"
   ]
  },
  {
   "cell_type": "markdown",
   "metadata": {},
   "source": [
    "Now we must calculate the covariance matrix, which can be calculated with the built-in function cov():"
   ]
  },
  {
   "cell_type": "code",
   "execution_count": null,
   "metadata": {},
   "outputs": [],
   "source": [
    "cov = ind[\"1995\":\"2000\"].cov()"
   ]
  },
  {
   "cell_type": "code",
   "execution_count": null,
   "metadata": {},
   "outputs": [],
   "source": [
    "cov"
   ]
  },
  {
   "cell_type": "code",
   "execution_count": null,
   "metadata": {},
   "outputs": [],
   "source": []
  },
  {
   "cell_type": "code",
   "execution_count": null,
   "metadata": {},
   "outputs": [],
   "source": []
  },
  {
   "cell_type": "code",
   "execution_count": null,
   "metadata": {},
   "outputs": [],
   "source": []
  }
 ],
 "metadata": {
  "kernelspec": {
   "display_name": "Python 3",
   "language": "python",
   "name": "python3"
  },
  "language_info": {
   "codemirror_mode": {
    "name": "ipython",
    "version": 3
   },
   "file_extension": ".py",
   "mimetype": "text/x-python",
   "name": "python",
   "nbconvert_exporter": "python",
   "pygments_lexer": "ipython3",
   "version": "3.7.6"
  }
 },
 "nbformat": 4,
 "nbformat_minor": 4
}
