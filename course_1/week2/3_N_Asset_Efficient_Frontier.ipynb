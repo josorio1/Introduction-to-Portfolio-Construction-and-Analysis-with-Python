{
 "cells": [
  {
   "cell_type": "markdown",
   "metadata": {},
   "source": [
    "## N-Asset Efficient Frontier"
   ]
  },
  {
   "cell_type": "code",
   "execution_count": 7,
   "metadata": {},
   "outputs": [
    {
     "name": "stdout",
     "output_type": "stream",
     "text": [
      "The autoreload extension is already loaded. To reload it, use:\n",
      "  %reload_ext autoreload\n"
     ]
    }
   ],
   "source": [
    "%load_ext autoreload\n",
    "%autoreload 2\n",
    "%matplotlib inline\n",
    "\n",
    "import pandas as pd\n",
    "import numpy as np\n",
    "import edhec_risk_kit as erk\n",
    "from scipy.optimize import minimize"
   ]
  },
  {
   "cell_type": "code",
   "execution_count": 19,
   "metadata": {},
   "outputs": [],
   "source": [
    "ind = erk.get_ind_returns()\n",
    "er = erk.annualized_rets(ind[\"1996\":\"2000\"],12)\n",
    "cov = ind[\"1996\":\"2000\"].cov()"
   ]
  },
  {
   "cell_type": "markdown",
   "metadata": {},
   "source": [
    "As we have already mentioned the key to obtain the efficient frontier for N assets is using a quadratic optimizer. Fortunately, scipy.optimize already has one, so we can use it :). As I think that the function we've developed is interesting, I will leave it here apart from adding it to the module:"
   ]
  },
  {
   "cell_type": "code",
   "execution_count": 75,
   "metadata": {},
   "outputs": [],
   "source": [
    "def minimize_vol(target_return,er,cov):\n",
    "    \"\"\"\n",
    "    Given some constraints and an initial guess, it returns the weights\n",
    "    that produce the minimum volatility for a target return.\n",
    "    \"\"\"\n",
    "    \n",
    "    n = er.shape[0]\n",
    "    init_guess = np.repeat(1/n, n)\n",
    "    bounds = ((0.0, 1.0),) * n # an N-tuple of 2-tuples!\n",
    "    \n",
    "    #We need some constraints\n",
    "    \n",
    "    return_is_target = {'type': 'eq', #constraint that says our function below has to equal zero\n",
    "                        'args':(er,), #makes sure that additional arguments (that are constant) are added to the function\n",
    "                        'fun' : lambda weights, er: target_return - erk.portfolio_return(weights,er) #function that has to meet the constraint\n",
    "    }\n",
    "\n",
    "    weights_sum_to_1 = {'type': 'eq',\n",
    "                        'fun': lambda weights: np.sum(weights) - 1\n",
    "    }\n",
    "  \n",
    "    \n",
    "    results = minimize(erk.portfolio_vol,init_guess,args=(cov,), method = \"SLSQP\", options={\"disp\": False},\n",
    "                      constraints=(return_is_target_2, weights_sum_to_1),\n",
    "                      bounds=bounds)\n",
    "    \n",
    "    # In minimize, we have a function called erk.portfolio_vol that depends on two arguments: covariance matrix\n",
    "    # and weights. However, we only want the minimization of the function by changing the weights, as the covariance\n",
    "    # matrix is a constant (for this reason, we use args=(cov,) ). Apart from this, the function minimize also\n",
    "    # requires constraints and bound, and the method we will use to optimize.\n",
    "    \n",
    "    \n",
    "    return results.x #solution array, have a look at documentation\n",
    "    \n",
    "    "
   ]
  },
  {
   "cell_type": "markdown",
   "metadata": {},
   "source": [
    "What we can do now is see if it works for the 2-asset case, as we already have the results."
   ]
  },
  {
   "cell_type": "code",
   "execution_count": 80,
   "metadata": {},
   "outputs": [],
   "source": [
    "l = [\"Games\",\"Fin\"]"
   ]
  },
  {
   "cell_type": "code",
   "execution_count": 77,
   "metadata": {},
   "outputs": [
    {
     "data": {
      "text/plain": [
       "0.056163669406706564"
      ]
     },
     "execution_count": 77,
     "metadata": {},
     "output_type": "execute_result"
    }
   ],
   "source": [
    "weights_min = erk.minimize_vol(0.15,er[l],cov.loc[l,l]) #as we can see in 2_2, minimum volatility is around the return 0.15\n",
    "erk.portfolio_vol(weights_min,cov.loc[l,l])"
   ]
  },
  {
   "cell_type": "markdown",
   "metadata": {},
   "source": [
    "If we go back to the previous notebook, we can see that for a return of 0.15, that is actually the minimum volatility. Now that we have a function that gives the weights for a certain return, we should create another function that returns the weights for all the possible returns, which are inside the interval $[min(returns), max(returns)]$. Again, I will leave the function here because I find it particularly interesting:"
   ]
  },
  {
   "cell_type": "code",
   "execution_count": 84,
   "metadata": {},
   "outputs": [],
   "source": [
    "def optimal_weights(n_points,er,cov):\n",
    "    \"\"\" \n",
    "    Returns a list of weights that minimize the volatility associated to n equally spaced points\n",
    "    in the interval [min(er),max(er)], where er is the expected return. Cov is the covariance \n",
    "    matrix.\n",
    "    \"\"\"\n",
    "    target_returns = np.linspace(er.min(),er.max(),n_points)\n",
    "    weights = [erk.minimize_vol(target_ret,er,cov) for target_ret in target_returns]\n",
    "    \n",
    "    return weights"
   ]
  },
  {
   "cell_type": "markdown",
   "metadata": {},
   "source": [
    "Finally, we can create another function that would plot for us the efficient frontier. In this case, I added \"plot\" as a parameter that must be set to True in order to plot the efficient frontier. Otherwise, it will only return a DataFrame with the minimized volatility for each return and the associated weights."
   ]
  },
  {
   "cell_type": "code",
   "execution_count": 154,
   "metadata": {},
   "outputs": [],
   "source": [
    "def ef_multi(n_points,er,cov,plot=False):\n",
    "    \n",
    "    \"\"\"\n",
    "    Returns a Dataframe a multi-asset efficient frontier, i.e returns and associated weights and minimized\n",
    "    volatility. If plot==True, it plots the efficient frontier.\n",
    "    \"\"\"\n",
    "    \n",
    "    weights = erk.optimal_weights(n_points,er,cov)\n",
    "    rets = [erk.portfolio_return(w,er) for w in weights]\n",
    "    vols = [erk.portfolio_vol(w,cov) for w in weights]\n",
    "    \n",
    "    weights_dataframe = pd.DataFrame (weights, columns = er.index)\n",
    "    ret_vol_dataframe = pd.DataFrame({\"Returns\": rets,\n",
    "                       \"Volatility\": vols,\n",
    "                                     })\n",
    "    ef = pd.concat([ret_vol_dataframe,weights_dataframe], axis=1)\n",
    "    \n",
    "    if plot == False:\n",
    "        return ef\n",
    "    \n",
    "    if plot == True:\n",
    "        ef.plot.scatter(x = \"Volatility\", y=\"Returns\",title=\"Efficient Frontier\",s=0.3,c=\"red\")\n",
    "        return ef"
   ]
  },
  {
   "cell_type": "code",
   "execution_count": 155,
   "metadata": {},
   "outputs": [
    {
     "data": {
      "image/png": "[encoded data removed]",
      "text/plain": [
       "<Figure size 432x288 with 1 Axes>"
      ]
     },
     "metadata": {
      "needs_background": "light"
     },
     "output_type": "display_data"
    }
   ],
   "source": [
    "l = [\"Smoke\", \"Fin\", \"Games\", \"Coal\"] #let's just pick 4 assets to make the programme run faster, but I tried \n",
    "                                        # with all the assets and it works fine \n",
    "\n",
    "ef_data = erk.ef_multi(100,er[l],cov.loc[l,l], plot=True)"
   ]
  },
  {
   "cell_type": "code",
   "execution_count": 156,
   "metadata": {},
   "outputs": [
    {
     "data": {
      "text/html": [
       "<div>\n",
       "<style scoped>\n",
       "    .dataframe tbody tr th:only-of-type {\n",
       "        vertical-align: middle;\n",
       "    }\n",
       "\n",
       "    .dataframe tbody tr th {\n",
       "        vertical-align: top;\n",
       "    }\n",
       "\n",
       "    .dataframe thead th {\n",
       "        text-align: right;\n",
       "    }\n",
       "</style>\n",
       "<table border=\"1\" class=\"dataframe\">\n",
       "  <thead>\n",
       "    <tr style=\"text-align: right;\">\n",
       "      <th></th>\n",
       "      <th>Returns</th>\n",
       "      <th>Volatility</th>\n",
       "      <th>Smoke</th>\n",
       "      <th>Fin</th>\n",
       "      <th>Games</th>\n",
       "      <th>Coal</th>\n",
       "    </tr>\n",
       "  </thead>\n",
       "  <tbody>\n",
       "    <tr>\n",
       "      <th>0</th>\n",
       "      <td>0.068212</td>\n",
       "      <td>0.061423</td>\n",
       "      <td>6.241704e-12</td>\n",
       "      <td>0.000000e+00</td>\n",
       "      <td>1.000000e+00</td>\n",
       "      <td>1.908196e-17</td>\n",
       "    </tr>\n",
       "    <tr>\n",
       "      <th>1</th>\n",
       "      <td>0.071711</td>\n",
       "      <td>0.057113</td>\n",
       "      <td>8.833594e-02</td>\n",
       "      <td>0.000000e+00</td>\n",
       "      <td>9.116641e-01</td>\n",
       "      <td>0.000000e+00</td>\n",
       "    </tr>\n",
       "    <tr>\n",
       "      <th>2</th>\n",
       "      <td>0.075211</td>\n",
       "      <td>0.054115</td>\n",
       "      <td>1.766719e-01</td>\n",
       "      <td>0.000000e+00</td>\n",
       "      <td>8.233281e-01</td>\n",
       "      <td>1.110223e-16</td>\n",
       "    </tr>\n",
       "    <tr>\n",
       "      <th>3</th>\n",
       "      <td>0.078711</td>\n",
       "      <td>0.052652</td>\n",
       "      <td>2.650078e-01</td>\n",
       "      <td>0.000000e+00</td>\n",
       "      <td>7.349922e-01</td>\n",
       "      <td>1.665335e-16</td>\n",
       "    </tr>\n",
       "    <tr>\n",
       "      <th>4</th>\n",
       "      <td>0.082211</td>\n",
       "      <td>0.052312</td>\n",
       "      <td>2.825824e-01</td>\n",
       "      <td>2.045826e-04</td>\n",
       "      <td>7.092133e-01</td>\n",
       "      <td>7.999785e-03</td>\n",
       "    </tr>\n",
       "    <tr>\n",
       "      <th>...</th>\n",
       "      <td>...</td>\n",
       "      <td>...</td>\n",
       "      <td>...</td>\n",
       "      <td>...</td>\n",
       "      <td>...</td>\n",
       "      <td>...</td>\n",
       "    </tr>\n",
       "    <tr>\n",
       "      <th>95</th>\n",
       "      <td>0.400690</td>\n",
       "      <td>0.128194</td>\n",
       "      <td>1.387779e-16</td>\n",
       "      <td>7.317200e-02</td>\n",
       "      <td>0.000000e+00</td>\n",
       "      <td>9.268280e-01</td>\n",
       "    </tr>\n",
       "    <tr>\n",
       "      <th>96</th>\n",
       "      <td>0.404190</td>\n",
       "      <td>0.130264</td>\n",
       "      <td>5.551115e-17</td>\n",
       "      <td>5.487900e-02</td>\n",
       "      <td>5.551115e-17</td>\n",
       "      <td>9.451210e-01</td>\n",
       "    </tr>\n",
       "    <tr>\n",
       "      <th>97</th>\n",
       "      <td>0.407689</td>\n",
       "      <td>0.132344</td>\n",
       "      <td>0.000000e+00</td>\n",
       "      <td>3.658600e-02</td>\n",
       "      <td>0.000000e+00</td>\n",
       "      <td>9.634140e-01</td>\n",
       "    </tr>\n",
       "    <tr>\n",
       "      <th>98</th>\n",
       "      <td>0.411189</td>\n",
       "      <td>0.134434</td>\n",
       "      <td>0.000000e+00</td>\n",
       "      <td>1.829300e-02</td>\n",
       "      <td>0.000000e+00</td>\n",
       "      <td>9.817070e-01</td>\n",
       "    </tr>\n",
       "    <tr>\n",
       "      <th>99</th>\n",
       "      <td>0.414689</td>\n",
       "      <td>0.136532</td>\n",
       "      <td>0.000000e+00</td>\n",
       "      <td>3.107594e-16</td>\n",
       "      <td>0.000000e+00</td>\n",
       "      <td>1.000000e+00</td>\n",
       "    </tr>\n",
       "  </tbody>\n",
       "</table>\n",
       "<p>100 rows × 6 columns</p>\n",
       "</div>"
      ],
      "text/plain": [
       "     Returns  Volatility         Smoke           Fin         Games  \\\n",
       "0   0.068212    0.061423  6.241704e-12  0.000000e+00  1.000000e+00   \n",
       "1   0.071711    0.057113  8.833594e-02  0.000000e+00  9.116641e-01   \n",
       "2   0.075211    0.054115  1.766719e-01  0.000000e+00  8.233281e-01   \n",
       "3   0.078711    0.052652  2.650078e-01  0.000000e+00  7.349922e-01   \n",
       "4   0.082211    0.052312  2.825824e-01  2.045826e-04  7.092133e-01   \n",
       "..       ...         ...           ...           ...           ...   \n",
       "95  0.400690    0.128194  1.387779e-16  7.317200e-02  0.000000e+00   \n",
       "96  0.404190    0.130264  5.551115e-17  5.487900e-02  5.551115e-17   \n",
       "97  0.407689    0.132344  0.000000e+00  3.658600e-02  0.000000e+00   \n",
       "98  0.411189    0.134434  0.000000e+00  1.829300e-02  0.000000e+00   \n",
       "99  0.414689    0.136532  0.000000e+00  3.107594e-16  0.000000e+00   \n",
       "\n",
       "            Coal  \n",
       "0   1.908196e-17  \n",
       "1   0.000000e+00  \n",
       "2   1.110223e-16  \n",
       "3   1.665335e-16  \n",
       "4   7.999785e-03  \n",
       "..           ...  \n",
       "95  9.268280e-01  \n",
       "96  9.451210e-01  \n",
       "97  9.634140e-01  \n",
       "98  9.817070e-01  \n",
       "99  1.000000e+00  \n",
       "\n",
       "[100 rows x 6 columns]"
      ]
     },
     "execution_count": 156,
     "metadata": {},
     "output_type": "execute_result"
    }
   ],
   "source": [
    "ef_data"
   ]
  },
  {
   "cell_type": "markdown",
   "metadata": {},
   "source": [
    "Of course, the weights in each row should add up to 1 (they do)."
   ]
  },
  {
   "cell_type": "code",
   "execution_count": null,
   "metadata": {},
   "outputs": [],
   "source": []
  }
 ],
 "metadata": {
  "kernelspec": {
   "display_name": "Python 3",
   "language": "python",
   "name": "python3"
  },
  "language_info": {
   "codemirror_mode": {
    "name": "ipython",
    "version": 3
   },
   "file_extension": ".py",
   "mimetype": "text/x-python",
   "name": "python",
   "nbconvert_exporter": "python",
   "pygments_lexer": "ipython3",
   "version": "3.7.6"
  }
 },
 "nbformat": 4,
 "nbformat_minor": 4
}
