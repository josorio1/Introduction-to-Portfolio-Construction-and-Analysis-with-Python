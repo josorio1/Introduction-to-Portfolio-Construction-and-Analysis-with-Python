{
 "cells": [
  {
   "cell_type": "markdown",
   "metadata": {},
   "source": [
    "## Asset combination"
   ]
  },
  {
   "cell_type": "markdown",
   "metadata": {},
   "source": [
    "When we have different assets in our portfolio, we might be interested in knowing the return and volatility of the combination of all these assets.\n",
    "\n",
    "The return is nothing more than the weighted average of all the returns in our portfolio. However, the volatily cannot be given by a weighted average only, as it also depends on the correlation between the assets. When the assets are _not_ correlated, the volatility is lower than the weighted average. The volatility is only the same as the weighted average when the assets have a perfect correlation. Let's just have a look at the equations for N assets:\n",
    "\n",
    "$$ R (w_{i}) = \\sum_{i=1}^{N} w_{i}R_{i}  $$ \n",
    "\n",
    "This could be easily generalized to N assets. For the volatility, we would have:\n",
    "\n",
    "$$ \\sigma^{2}(w_{i}) = \\sum_{i=1}^{N}\\sum_{j=1}^{N} w_{i}\\sigma_{i,j} w_{j} $$\n",
    "\n",
    "where $\\sigma_{i,j} = cov(i,j) = E [(i- E[i])(j-E[j])] = E[ij] - E[i]E[j] = E[ij] - R_{i}R_{j} $\n",
    "\n",
    "If we are given the correlations, it can be written as:\n",
    "\n",
    "$$ \\sigma^{2}(w_{i}) = \\sum_{i=1}^{N}\\sum_{j=1}^{N} w_{i}w_{j}\\sigma_{i}\\sigma_{j}\\rho_{ij}  $$\n",
    "\n",
    "\n",
    "If we use matrix notation, we have the following:\n",
    "\n",
    "$$ R_{portofolio} = w^{T}R $$\n",
    "\n",
    "$$ \\sigma^{2}_{portfolio} = w^{T}\\Sigma w $$\n",
    "\n",
    "where $\\sigma$ is the covariance matrix.\n",
    "\n",
    "\n",
    "\n",
    "(Please, refer to http://www.its.caltech.edu/~rosentha/courses/BEM103/Readings/JWCh07.pdf,\n",
    "https://es.wikipedia.org/wiki/Covarianza)"
   ]
  },
  {
   "cell_type": "markdown",
   "metadata": {},
   "source": [
    "## Efficient frontier (theory)"
   ]
  },
  {
   "cell_type": "markdown",
   "metadata": {},
   "source": [
    "The efficient frontier gives us the best portfolio we can have, as there is no other way of getting a higher return for the same level of volatility.\n",
    "\n",
    "\n",
    "In order to find the efficient frontier, we must find the portfolios with minimum volatility for a given return,i.e. we must minimize $ \\sigma^{2}_{portfolio} = w^{T}\\Sigma w $. In fact, we must minimize half of that, because that way we have a quadratic form that can be plugged into a quadratic optimizer. For the optimizer to work, we must add some constraints, which are:\n",
    "\n",
    "1. We minimize for a constant return, but we do this several times with different returns to obtain a curve \n",
    "\n",
    "$$ w^{t}R = r_{0}$$\n",
    "\n",
    "2. Weights add up to 1:\n",
    "\n",
    "$$ w^{t}1 = 1$$\n",
    "\n",
    "3. All weights are positive or zero, so there is no shorting.\n",
    "\n",
    "\n",
    "The key of this is that calculating the efficient frontier is relatively easy because it follows a quadratic form."
   ]
  },
  {
   "cell_type": "code",
   "execution_count": null,
   "metadata": {},
   "outputs": [],
   "source": []
  }
 ],
 "metadata": {
  "kernelspec": {
   "display_name": "Python 3",
   "language": "python",
   "name": "python3"
  },
  "language_info": {
   "codemirror_mode": {
    "name": "ipython",
    "version": 3
   },
   "file_extension": ".py",
   "mimetype": "text/x-python",
   "name": "python",
   "nbconvert_exporter": "python",
   "pygments_lexer": "ipython3",
   "version": "3.7.6"
  }
 },
 "nbformat": 4,
 "nbformat_minor": 4
}
