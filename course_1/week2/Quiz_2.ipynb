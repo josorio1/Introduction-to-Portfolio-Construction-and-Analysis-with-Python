{
 "cells": [
  {
   "cell_type": "code",
   "execution_count": 9,
   "metadata": {},
   "outputs": [
    {
     "name": "stdout",
     "output_type": "stream",
     "text": [
      "The autoreload extension is already loaded. To reload it, use:\n",
      "  %reload_ext autoreload\n"
     ]
    }
   ],
   "source": [
    "%load_ext autoreload\n",
    "%autoreload 2\n",
    "%matplotlib inline\n",
    "\n",
    "import pandas as pd\n",
    "import numpy as np\n",
    "import edhec_risk_kit as erk\n",
    "from scipy.optimize import minimize\n",
    "import matplotlib.pyplot as plt\n",
    "\n",
    "er = erk.get_hfi_returns()\n"
   ]
  },
  {
   "cell_type": "markdown",
   "metadata": {},
   "source": [
    "## Var questions (1-3)"
   ]
  },
  {
   "cell_type": "code",
   "execution_count": 23,
   "metadata": {},
   "outputs": [],
   "source": [
    "er_ds = er[[\"Distressed Securities\",\"Distressed Securities\"]][\"2000\":] #I have to repeat, otherwise DataFrame\n",
    "#will not be displayed later because we are passing scalars to it\n",
    "\n"
   ]
  },
  {
   "cell_type": "code",
   "execution_count": 32,
   "metadata": {},
   "outputs": [
    {
     "data": {
      "text/html": [
       "<div>\n",
       "<style scoped>\n",
       "    .dataframe tbody tr th:only-of-type {\n",
       "        vertical-align: middle;\n",
       "    }\n",
       "\n",
       "    .dataframe tbody tr th {\n",
       "        vertical-align: top;\n",
       "    }\n",
       "\n",
       "    .dataframe thead th {\n",
       "        text-align: right;\n",
       "    }\n",
       "</style>\n",
       "<table border=\"1\" class=\"dataframe\">\n",
       "  <thead>\n",
       "    <tr style=\"text-align: right;\">\n",
       "      <th></th>\n",
       "      <th>Historic</th>\n",
       "      <th>Gaussian</th>\n",
       "      <th>Cornish-Fisher</th>\n",
       "    </tr>\n",
       "  </thead>\n",
       "  <tbody>\n",
       "    <tr>\n",
       "      <th>Distressed Securities</th>\n",
       "      <td>0.042642</td>\n",
       "      <td>0.03143</td>\n",
       "      <td>0.049669</td>\n",
       "    </tr>\n",
       "    <tr>\n",
       "      <th>Distressed Securities</th>\n",
       "      <td>0.042642</td>\n",
       "      <td>0.03143</td>\n",
       "      <td>0.049669</td>\n",
       "    </tr>\n",
       "  </tbody>\n",
       "</table>\n",
       "</div>"
      ],
      "text/plain": [
       "                       Historic  Gaussian  Cornish-Fisher\n",
       "Distressed Securities  0.042642   0.03143        0.049669\n",
       "Distressed Securities  0.042642   0.03143        0.049669"
      ]
     },
     "execution_count": 32,
     "metadata": {},
     "output_type": "execute_result"
    }
   ],
   "source": [
    "erk.var_comparison(er_ds,per=1,quant=0.01)"
   ]
  },
  {
   "cell_type": "markdown",
   "metadata": {},
   "source": [
    "### Questions 4-10"
   ]
  },
  {
   "cell_type": "code",
   "execution_count": 33,
   "metadata": {},
   "outputs": [],
   "source": [
    "er=erk.get_ind_returns()"
   ]
  },
  {
   "cell_type": "code",
   "execution_count": 43,
   "metadata": {},
   "outputs": [],
   "source": [
    "er_2 = er[[\"Books\",\"Steel\",\"Oil\",\"Mines\"]][\"2013\":\"2017\"]\n",
    "er_f = erk.annualized_rets(er_2,12)\n",
    "cov = er_2.cov()\n",
    "\n",
    "\n",
    "          "
   ]
  },
  {
   "cell_type": "code",
   "execution_count": 61,
   "metadata": {},
   "outputs": [],
   "source": [
    "sr_df,ew_df,gmv_df = erk.ef_complete(0.1,er_f,cov,show_sr_df=True,show_ew_df=True,show_gmv_df=True)"
   ]
  },
  {
   "cell_type": "code",
   "execution_count": 74,
   "metadata": {},
   "outputs": [
    {
     "data": {
      "text/plain": [
       "Books    0.000000e+00\n",
       "Steel    1.000000e+00\n",
       "Oil      9.818535e-16\n",
       "Mines    3.191891e-15\n",
       "Name: 0, dtype: float64"
      ]
     },
     "execution_count": 74,
     "metadata": {},
     "output_type": "execute_result"
    }
   ],
   "source": [
    "w_sr = sr_df.loc[0,[\"Books\",\"Steel\",\"Oil\",\"Mines\"]]\n",
    "w_sr"
   ]
  },
  {
   "cell_type": "code",
   "execution_count": 69,
   "metadata": {},
   "outputs": [],
   "source": [
    "w_gmv = gmv_df.loc[0,[\"Books\",\"Steel\",\"Oil\",\"Mines\"]]"
   ]
  },
  {
   "cell_type": "markdown",
   "metadata": {},
   "source": [
    "## Questions 11-12"
   ]
  },
  {
   "cell_type": "code",
   "execution_count": 67,
   "metadata": {},
   "outputs": [],
   "source": [
    "er_new = er[[\"Books\",\"Steel\",\"Oil\",\"Mines\"]][\"2018\"]"
   ]
  },
  {
   "cell_type": "code",
   "execution_count": 72,
   "metadata": {},
   "outputs": [],
   "source": [
    "vol_sr = erk.portfolio_vol(w_sr,er_new.cov())\n",
    "vol_gmv = erk.portfolio_vol(w_gmv,er_new.cov())\n"
   ]
  },
  {
   "cell_type": "code",
   "execution_count": 73,
   "metadata": {},
   "outputs": [
    {
     "name": "stdout",
     "output_type": "stream",
     "text": [
      "0.21983988181484238 0.18973944278840316\n"
     ]
    }
   ],
   "source": [
    "print(vol_sr*(12**0.5),vol_gmv*(12**0.5))"
   ]
  },
  {
   "cell_type": "code",
   "execution_count": null,
   "metadata": {},
   "outputs": [],
   "source": [
    "3.14,4.97,4.26,25,1.0?,Stee,3?,47.70,Books,3,21.98,18.97"
   ]
  }
 ],
 "metadata": {
  "kernelspec": {
   "display_name": "Python 3",
   "language": "python",
   "name": "python3"
  },
  "language_info": {
   "codemirror_mode": {
    "name": "ipython",
    "version": 3
   },
   "file_extension": ".py",
   "mimetype": "text/x-python",
   "name": "python",
   "nbconvert_exporter": "python",
   "pygments_lexer": "ipython3",
   "version": "3.7.6"
  }
 },
 "nbformat": 4,
 "nbformat_minor": 4
}
