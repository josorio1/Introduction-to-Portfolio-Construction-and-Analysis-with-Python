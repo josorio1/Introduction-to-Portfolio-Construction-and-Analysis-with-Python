{
 "cells": [
  {
   "cell_type": "markdown",
   "metadata": {},
   "source": [
    "## Lack of robustness of the Markowitz procedure (efficient frontier). GMW"
   ]
  },
  {
   "cell_type": "code",
   "execution_count": 1,
   "metadata": {},
   "outputs": [],
   "source": [
    "%load_ext autoreload\n",
    "%autoreload 2\n",
    "%matplotlib inline\n",
    "\n",
    "import pandas as pd\n",
    "import numpy as np\n",
    "import edhec_risk_kit as erk\n",
    "from scipy.optimize import minimize\n",
    "import matplotlib.pyplot as plt\n",
    "\n",
    "ind = erk.get_ind_returns()\n",
    "er = erk.annualized_rets(ind[\"1996\":\"2000\"],12)\n",
    "cov = ind[\"1996\":\"2000\"].cov()"
   ]
  },
  {
   "cell_type": "markdown",
   "metadata": {},
   "source": [
    "Markowitz procedure is, in principle, a good method to build a portfolio. However, it is sensitive to errors in parameter estimates. As we can see below, a slight change in the estimation of expected returns provides a much different portfolio:"
   ]
  },
  {
   "cell_type": "code",
   "execution_count": 2,
   "metadata": {},
   "outputs": [],
   "source": [
    "l = [\"Food\",\"Steel\"]\n",
    "real_er = er[l]\n",
    "changed_er = er[l]\n",
    "changed_er[0] = changed_er[0]-0.01 # new food er\n",
    "changed_er[1] = changed_er[1] + 0.005 # new steel er"
   ]
  },
  {
   "cell_type": "code",
   "execution_count": 6,
   "metadata": {},
   "outputs": [
    {
     "name": "stdout",
     "output_type": "stream",
     "text": [
      "(   Returns MSR  Volatility MSR  Maximized Sharpe Ratio      Food     Steel\n",
      "0     0.116552        0.044114                0.375196  0.750404  0.249596, None, None) \n",
      " (   Returns MSR  Volatility MSR  Maximized Sharpe Ratio      Food     Steel\n",
      "0     0.114225        0.051409                0.276705  0.469911  0.530089, None, None)\n"
     ]
    }
   ],
   "source": [
    "#Here I already use the updated efficient frontier function \n",
    "\n",
    "er_weights = erk.ef_complete(0.1,er[l],cov.loc[l,l],show_sr_df=True)\n",
    "changed_er_weights = erk.ef_complete(0.1,changed_er,cov.loc[l,l],show_sr_df=True) #we change a bit the expected returns\n",
    "\n",
    "print(er_weights,\"\\n\",changed_er_weights)"
   ]
  },
  {
   "cell_type": "markdown",
   "metadata": {},
   "source": [
    "For this reason, professional usually focus on two other different portfolios that do not depend on the expected returns. One of things that can be done is using the **Global Minimum Variance (GMV) portfolio** , which is the portfolio where the expected returns for all the assets are assumed to be the same (number does not matter), i.e. the left-most point in the efficient frontier, as this assumptions returns the portfolio with the least volatility of the efficient frontier. The other option is the **Equal Weight portfolio**, which is a portfolio in which each asset has the same assigned weight. Of course, this is a very naive approach, but it might do the trick. Finding these portfolios is pretty easy, and we can do it with the following function (please, read the documentation for explanation)."
   ]
  },
  {
   "cell_type": "code",
   "execution_count": 21,
   "metadata": {},
   "outputs": [
    {
     "data": {
      "image/png": "[encoded data removed]",
      "text/plain": [
       "<Figure size 720x360 with 1 Axes>"
      ]
     },
     "metadata": {
      "needs_background": "light"
     },
     "output_type": "display_data"
    }
   ],
   "source": [
    "a,b,c= erk.ef_complete(0.10,er,cov,n_points=100, show_sr_df=True,show_ew_df=True,show_gmv_df=True,plot_ef=True,plot_sr=True,plot_ew=True,plot_gmv=True)"
   ]
  },
  {
   "cell_type": "code",
   "execution_count": 22,
   "metadata": {},
   "outputs": [
    {
     "data": {
      "text/html": [
       "<div>\n",
       "<style scoped>\n",
       "    .dataframe tbody tr th:only-of-type {\n",
       "        vertical-align: middle;\n",
       "    }\n",
       "\n",
       "    .dataframe tbody tr th {\n",
       "        vertical-align: top;\n",
       "    }\n",
       "\n",
       "    .dataframe thead th {\n",
       "        text-align: right;\n",
       "    }\n",
       "</style>\n",
       "<table border=\"1\" class=\"dataframe\">\n",
       "  <thead>\n",
       "    <tr style=\"text-align: right;\">\n",
       "      <th></th>\n",
       "      <th>Returns GMV</th>\n",
       "      <th>Volatility GMV</th>\n",
       "      <th>Food</th>\n",
       "      <th>Beer</th>\n",
       "      <th>Smoke</th>\n",
       "      <th>Games</th>\n",
       "      <th>Books</th>\n",
       "      <th>Hshld</th>\n",
       "      <th>Clths</th>\n",
       "      <th>Hlth</th>\n",
       "      <th>...</th>\n",
       "      <th>Telcm</th>\n",
       "      <th>Servs</th>\n",
       "      <th>BusEq</th>\n",
       "      <th>Paper</th>\n",
       "      <th>Trans</th>\n",
       "      <th>Whlsl</th>\n",
       "      <th>Rtail</th>\n",
       "      <th>Meals</th>\n",
       "      <th>Fin</th>\n",
       "      <th>Other</th>\n",
       "    </tr>\n",
       "  </thead>\n",
       "  <tbody>\n",
       "    <tr>\n",
       "      <th>0</th>\n",
       "      <td>0.158297</td>\n",
       "      <td>0.031442</td>\n",
       "      <td>0.031322</td>\n",
       "      <td>0.0</td>\n",
       "      <td>0.008364</td>\n",
       "      <td>0.00238</td>\n",
       "      <td>1.482576e-14</td>\n",
       "      <td>0.078237</td>\n",
       "      <td>0.0</td>\n",
       "      <td>0.064878</td>\n",
       "      <td>...</td>\n",
       "      <td>0.031516</td>\n",
       "      <td>0.0</td>\n",
       "      <td>0.101323</td>\n",
       "      <td>3.423408e-14</td>\n",
       "      <td>0.0</td>\n",
       "      <td>0.0</td>\n",
       "      <td>0.08386</td>\n",
       "      <td>0.115189</td>\n",
       "      <td>0.0</td>\n",
       "      <td>0.0</td>\n",
       "    </tr>\n",
       "  </tbody>\n",
       "</table>\n",
       "<p>1 rows × 32 columns</p>\n",
       "</div>"
      ],
      "text/plain": [
       "   Returns GMV  Volatility GMV      Food  Beer     Smoke    Games  \\\n",
       "0     0.158297        0.031442  0.031322   0.0  0.008364  0.00238   \n",
       "\n",
       "          Books     Hshld  Clths      Hlth  ...     Telcm  Servs     BusEq  \\\n",
       "0  1.482576e-14  0.078237    0.0  0.064878  ...  0.031516    0.0  0.101323   \n",
       "\n",
       "          Paper  Trans  Whlsl    Rtail     Meals  Fin  Other  \n",
       "0  3.423408e-14    0.0    0.0  0.08386  0.115189  0.0    0.0  \n",
       "\n",
       "[1 rows x 32 columns]"
      ]
     },
     "execution_count": 22,
     "metadata": {},
     "output_type": "execute_result"
    }
   ],
   "source": [
    "c"
   ]
  },
  {
   "cell_type": "code",
   "execution_count": null,
   "metadata": {},
   "outputs": [],
   "source": []
  }
 ],
 "metadata": {
  "kernelspec": {
   "display_name": "Python 3",
   "language": "python",
   "name": "python3"
  },
  "language_info": {
   "codemirror_mode": {
    "name": "ipython",
    "version": 3
   },
   "file_extension": ".py",
   "mimetype": "text/x-python",
   "name": "python",
   "nbconvert_exporter": "python",
   "pygments_lexer": "ipython3",
   "version": "3.7.6"
  }
 },
 "nbformat": 4,
 "nbformat_minor": 4
}
