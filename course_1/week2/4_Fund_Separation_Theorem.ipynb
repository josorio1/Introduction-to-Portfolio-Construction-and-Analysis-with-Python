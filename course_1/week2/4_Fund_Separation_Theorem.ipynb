{
 "cells": [
  {
   "cell_type": "markdown",
   "metadata": {},
   "source": [
    "## Fund Separation Theorem and Capital Market Line\n",
    "\n",
    "In the presence of a risk-free asset, the efficient frontier becomes a straight line which is called **capital market line**. This line represents the tangency portfolio, which is the porfolio that maximizes the Sharpe ratio (reward-per-risk ratio) given a risk-free asset. In other words, the capital market line is the line tangent to the efficient frontier with maximum slope that also crosses the y-axis (return axis) at the risk-free rate of return. If you have a look at the equation of the Sharpe ratio, you will notice that it gives the slope of any straight line in the volatility-return plane that has a value of the risk-free rate at the origin. If we are considering N assets, the Sharpe ratio is given by:\n",
    "\n",
    "\n",
    "$$ SR_{portfolio} = \\frac{\\mu_{portfolio} - r_{f}}{\\sigma_{portfolio}}  = \\frac{\\sum_{i=1}^{N} w_{i}R_{i}  - r_{f}}{\\sqrt{\\sum_{i=1}^{N}\\sum_{j=1}^{N} w_{i}\\sigma_{i,j} w_{j}}} $$\n",
    "\n",
    "where $r_{f}$ is the risk-free rate (bear in mind that it is outside the summatory). In order to find the capital market line, we must find the weights $w$ that maximize the previous equation."
   ]
  },
  {
   "cell_type": "markdown",
   "metadata": {},
   "source": [
    "### Locating Max Sharpe Ratio Portfolio"
   ]
  },
  {
   "cell_type": "code",
   "execution_count": 2,
   "metadata": {},
   "outputs": [],
   "source": [
    "%load_ext autoreload\n",
    "%autoreload 2\n",
    "%matplotlib inline\n",
    "\n",
    "import pandas as pd\n",
    "import numpy as np\n",
    "import edhec_risk_kit as erk\n",
    "from scipy.optimize import minimize\n",
    "import matplotlib.pyplot as plt"
   ]
  },
  {
   "cell_type": "code",
   "execution_count": 3,
   "metadata": {},
   "outputs": [],
   "source": [
    "ind = erk.get_ind_returns()\n",
    "er = erk.annualized_rets(ind[\"1996\":\"2000\"],12)\n",
    "cov = ind[\"1996\":\"2000\"].cov()"
   ]
  },
  {
   "cell_type": "markdown",
   "metadata": {},
   "source": [
    "In order to find the Max Sharpe ratop, we have to define a function that is pretty similar to the one we built for minimizing the volatility. However, the function that we can find below is a bit larger, as it introduces more elements and data to be plotted. In any case, the essence of it is more or less the same."
   ]
  },
  {
   "cell_type": "code",
   "execution_count": 4,
   "metadata": {},
   "outputs": [],
   "source": [
    "def maximize_sr(riskfree_rate,er,cov,n_points=None, plot=False):\n",
    "    \"\"\"\n",
    "    Given some constraints and an initial guess, it returns a DataFrame with the weights\n",
    "    that produce the portfolio with maximum Sharpe ratio, the return and volatility\n",
    "    that produce that Sharpe ratio, and the maximized Sharpe ratio. If plot == True,\n",
    "    it plots the efficient frontier, the Capital Market line and the point of tangency\n",
    "    of both. In this case, it is also require to choose the number of points for the \n",
    "    efficient frontier\n",
    "    \"\"\"\n",
    "    \n",
    "    n = er.shape[0] #number of assets\n",
    "    init_guess = np.repeat(1/n,n) # same weights for everyone\n",
    "    \n",
    "    #We need some constraints\n",
    "    \n",
    "    bounds = ((0.0,1.0),)*n # w create n tuples with bound from 0 to 1\n",
    "    \n",
    "    weights_sum_to_1 = {\n",
    "        'type': 'eq',\n",
    "        'fun': lambda weights: np.sum(weights) - 1\n",
    "    }\n",
    "    \n",
    "    # Please, have a look at minimize_vol for more explanation. The difference is that instead of maximizing\n",
    "    # Sharpe ratio, we minimize the negative Sharpe ratio, so we obtain the maximized Sharpe ratio, but with \n",
    "    # a negative sign.\n",
    "    \n",
    "    def neg_sharpe_ratio(weights,riskfree_rate,er,cov):\n",
    "        \"\"\"\n",
    "        Returns the negative of Sharpe ratio.\n",
    "        \"\"\"\n",
    "        r = erk.portfolio_return(weights,er)\n",
    "        vol = erk.portfolio_vol(weights,cov)\n",
    "        return - (r-riskfree_rate)/vol\n",
    "    \n",
    "    minimized_weights = minimize(neg_sharpe_ratio,init_guess, args=(riskfree_rate,er,cov,), method = \"SLSQP\", options={\"disp\": False}, constraints=(weights_sum_to_1), bounds=bounds)\n",
    "\n",
    "    #We create the DataFrame with minimized weights, vol, return and max Sharpe ratio\n",
    "    \n",
    "    max_sharpe_ratio = -neg_sharpe_ratio(minimized_weights.x,riskfree_rate,er,cov)\n",
    "    \n",
    "    minimized_weights_dataframe = pd.DataFrame(np.reshape(minimized_weights.x,(1,minimized_weights.x.shape[0])), columns = er.index)\n",
    "    ret_vol_max_sr_dataframe = pd.DataFrame({\"Returns\": [erk.portfolio_return(minimized_weights.x,er)], \n",
    "                       \"Volatility\":[erk.portfolio_vol(minimized_weights.x,cov)],\n",
    "                        \"Maximized Sharpe Ratio\": [max_sharpe_ratio]\n",
    "                                     })\n",
    "    df = pd.concat([ret_vol_max_sr_dataframe,minimized_weights_dataframe], axis=1)\n",
    "    \n",
    "    if plot == False: #returns only dataframe\n",
    "        \n",
    "        return df\n",
    "    \n",
    "    elif plot == True: #returns DataFrame and also plots CML, EF and tangency point.\n",
    "        \n",
    "        ef_data = erk.ef_multi(n_points,er,cov,plot=True) # we have to set the number of points for the frontier\n",
    "        \n",
    "        def cml(x,riskfree_rate,max_sharpe_ratio): #we create the function for the Capital Market Line\n",
    "            \n",
    "            return riskfree_rate + max_sharpe_ratio*x\n",
    "        \n",
    "        x = np.linspace(0, ret_vol_max_sr_dataframe[\"Volatility\"],n_points) #we choose the points the line will have\n",
    "        \n",
    "        #Plotting CML and Tangency Point\n",
    "        plt.plot(x,cml(x,riskfree_rate,max_sharpe_ratio), label=\"Capital Market Line\",linestyle=\"dashed\")\n",
    "        plt.scatter(ret_vol_max_sr_dataframe[\"Volatility\"],ret_vol_max_sr_dataframe[\"Returns\"], label = \"Tangency Point\", s=8, c=\"green\",marker='o' )\n",
    "        plt.legend()\n",
    "        plt.xlim(0,ef_data[\"Volatility\"].max())\n",
    "        plt.title(\"Efficient Frontier and Capital Market Line\")\n",
    "        \n",
    "        return df\n",
    "    \n",
    "    \n",
    "    "
   ]
  },
  {
   "cell_type": "code",
   "execution_count": 6,
   "metadata": {},
   "outputs": [],
   "source": [
    "#erk.ef_complete(0.10,er,cov,show_sr=True)"
   ]
  },
  {
   "cell_type": "code",
   "execution_count": null,
   "metadata": {},
   "outputs": [],
   "source": []
  },
  {
   "cell_type": "code",
   "execution_count": null,
   "metadata": {},
   "outputs": [],
   "source": []
  },
  {
   "cell_type": "code",
   "execution_count": null,
   "metadata": {},
   "outputs": [],
   "source": []
  }
 ],
 "metadata": {
  "kernelspec": {
   "display_name": "Python 3",
   "language": "python",
   "name": "python3"
  },
  "language_info": {
   "codemirror_mode": {
    "name": "ipython",
    "version": 3
   },
   "file_extension": ".py",
   "mimetype": "text/x-python",
   "name": "python",
   "nbconvert_exporter": "python",
   "pygments_lexer": "ipython3",
   "version": "3.7.6"
  }
 },
 "nbformat": 4,
 "nbformat_minor": 4
}
